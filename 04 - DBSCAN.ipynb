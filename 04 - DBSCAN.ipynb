{
 "cells": [
  {
   "cell_type": "markdown",
   "metadata": {},
   "source": [
    "# 04 - DBSCAN\n",
    "\n",
    "## Introdução\n",
    "\n",
    "O **DBSCAN** (Density-Based Spatial Clustering of Applications with Noise) é um algoritmo de clustering baseado em densidade desenvolvido por Martin Ester e colaboradores em 1996. Diferentemente do K-Means e clustering hierárquico, o DBSCAN não requer que especifiquemos o número de clusters antecipadamente e é capaz de identificar clusters de formas arbitrárias e detectar outliers (ruído).\n",
    "\n",
    "### Características Principais do DBSCAN:\n",
    "\n",
    "1. **Baseado em densidade**: Agrupa pontos que estão densamente empacotados\n",
    "2. **Detecção de ruído**: Identifica automaticamente outliers\n",
    "3. **Forma arbitrária**: Pode encontrar clusters de qualquer formato\n",
    "4. **Número automático de clusters**: Não precisa especificar k antecipadamente\n",
    "5. **Robusto a outliers**: Outliers não afetam a formação dos clusters\n",
    "\n",
    "## Fundamentos Matemáticos\n",
    "\n",
    "O DBSCAN utiliza dois parâmetros principais:\n",
    "- $\\varepsilon$ (eps): raio da vizinhança\n",
    "- $\\text{minPts}$: número mínimo de pontos para formar um cluster\n",
    "\n",
    "### Definições Fundamentais:\n",
    "\n",
    "**1. Vizinhança-$\\varepsilon$**: Para um ponto $p$, sua vizinhança-$\\varepsilon$ é definida como:\n",
    "$$N_\\varepsilon(p) = \\{q \\in D | \\text{dist}(p,q) \\leq \\varepsilon\\}$$\n",
    "\n",
    "**2. Ponto Central (Core Point)**: Um ponto $p$ é um ponto central se:\n",
    "$$|N_\\varepsilon(p)| \\geq \\text{minPts}$$\n",
    "\n",
    "**3. Diretamente Alcançável por Densidade**: Um ponto $q$ é diretamente alcançável por densidade a partir de $p$ se:\n",
    "- $q \\in N_\\varepsilon(p)$ e\n",
    "- $p$ é um ponto central\n",
    "\n",
    "**4. Alcançável por Densidade**: Um ponto $q$ é alcançável por densidade a partir de $p$ se existe uma cadeia de pontos $p_1, p_2, ..., p_n$ onde $p_1 = p$ e $p_n = q$, tal que $p_{i+1}$ é diretamente alcançável por densidade a partir de $p_i$.\n",
    "\n",
    "**5. Conectado por Densidade**: Dois pontos $p$ e $q$ são conectados por densidade se existe um ponto $o$ tal que tanto $p$ quanto $q$ são alcançáveis por densidade a partir de $o$.\n",
    "\n",
    "### Classificação dos Pontos:\n",
    "\n",
    "- **Core Point (Ponto Central)**: $|N_\\varepsilon(p)| \\geq \\text{minPts}$\n",
    "- **Border Point (Ponto de Fronteira)**: $|N_\\varepsilon(p)| < \\text{minPts}$, mas está na vizinhança de um core point\n",
    "- **Noise Point (Ponto de Ruído)**: Não é core nem border point"
   ]
  },
  {
   "cell_type": "code",
   "execution_count": null,
   "metadata": {},
   "outputs": [],
   "source": [
    "import numpy as np\n",
    "import matplotlib.pyplot as plt\n",
    "import seaborn as sns\n",
    "from sklearn import datasets\n",
    "from sklearn.preprocessing import StandardScaler\n",
    "from sklearn.cluster import DBSCAN as SklearnDBSCAN\n",
    "from scipy.spatial.distance import pdist, squareform\n",
    "from scipy.stats import mode\n",
    "import pandas as pd\n",
    "\n",
    "plt.style.use('seaborn-v0_8-whitegrid')\n",
    "np.random.seed(1)"
   ]
  },
  {
   "cell_type": "markdown",
   "metadata": {},
   "source": [
    "## Implementação do DBSCAN\n",
    "\n",
    "Vamos implementar o algoritmo DBSCAN passo a passo usando apenas NumPy:"
   ]
  },
  {
   "cell_type": "code",
   "execution_count": null,
   "metadata": {},
   "outputs": [],
   "source": [
    "class DBSCAN:\n",
    "    def __init__(self, eps=0.5, min_pts=5, metric='euclidean'):\n",
    "        \"\"\"Inicializa o DBSCAN com os parâmetros eps e min_pts\"\"\"\n",
    "        self.eps = eps\n",
    "        self.min_pts = min_pts\n",
    "        self.metric = metric\n",
    "        self.labels_ = None\n",
    "        self.core_samples_ = None\n",
    "        self.n_clusters_ = 0\n",
    "    \n",
    "    def _calculate_distance_matrix(self, X):\n",
    "        \"\"\"Calcula a matriz de distâncias entre todos os pontos\"\"\"\n",
    "        if self.metric == 'euclidean':\n",
    "            distances = np.linalg.norm(X[:, np.newaxis] - X, axis=2)\n",
    "        # elif self.metric == '...':\n",
    "            # distance = ...\n",
    "        else:\n",
    "            raise ValueError(\"Métrica não suportada\")\n",
    "        return distances\n",
    "    \n",
    "    def _get_neighbors(self, point_idx, distance_matrix):\n",
    "        \"\"\"Encontra todos os vizinhos dentro da distância eps\"\"\"\n",
    "        return np.where(distance_matrix[point_idx] <= self.eps)[0]\n",
    "    \n",
    "    def _expand_cluster(self, point_idx, neighbors, cluster_id, distance_matrix, visited, labels):\n",
    "        \"\"\"Expande o cluster a partir do ponto inicial\"\"\"\n",
    "        labels[point_idx] = cluster_id\n",
    "        queue = neighbors.tolist()\n",
    "\n",
    "        while queue:\n",
    "            neighbor_idx = queue.pop()\n",
    "\n",
    "            if not visited[neighbor_idx]:\n",
    "                visited[neighbor_idx] = True\n",
    "                neighbor_neighbors = self._get_neighbors(neighbor_idx, distance_matrix)\n",
    "\n",
    "                if len(neighbor_neighbors) >= self.min_pts:\n",
    "                    queue.extend(neighbor_neighbors)\n",
    "\n",
    "            if labels[neighbor_idx] == -1:\n",
    "                labels[neighbor_idx] = cluster_id\n",
    "\n",
    "    def fit(self, X):\n",
    "        \"\"\"Executa o algoritmo DBSCAN\"\"\"\n",
    "        n_points = len(X)\n",
    "        visited = np.zeros(n_points, dtype=bool)\n",
    "        cluster_id = 0\n",
    "        self.labels_ = np.full(n_points, -1)  # -1 = ruído\n",
    "        self.core_samples_ = []\n",
    "\n",
    "        distance_matrix = self._calculate_distance_matrix(X)\n",
    "\n",
    "        for point_idx in range(n_points):\n",
    "            if visited[point_idx]:\n",
    "                continue\n",
    "\n",
    "            visited[point_idx] = True\n",
    "            neighbors = self._get_neighbors(point_idx, distance_matrix)\n",
    "\n",
    "            if len(neighbors) >= self.min_pts:   # core point\n",
    "                self.core_samples_.append(point_idx)\n",
    "                self._expand_cluster(point_idx, neighbors, cluster_id, distance_matrix, visited, self.labels_)\n",
    "                cluster_id += 1\n",
    "\n",
    "        self.core_samples_ = np.array(self.core_samples_)\n",
    "        self.n_clusters_ = cluster_id\n",
    "        return self\n",
    "\n",
    "    def fit_predict(self, X):\n",
    "        \"\"\"Executa DBSCAN e retorna os labels\"\"\"\n",
    "        self.fit(X)\n",
    "        return self.labels_"
   ]
  },
  {
   "cell_type": "markdown",
   "metadata": {},
   "source": [
    "## Demonstração com Dados Sintéticos\n",
    "\n",
    "Vamos criar dados sintéticos para demonstrar o funcionamento do DBSCAN:"
   ]
  },
  {
   "cell_type": "code",
   "execution_count": null,
   "metadata": {},
   "outputs": [],
   "source": [
    "rng = np.random.default_rng(42)\n",
    "\n",
    "# Cabeça: círculo com leve ruído\n",
    "n_head = 400\n",
    "theta = rng.uniform(0, 2*np.pi, n_head)\n",
    "R = 10 + rng.normal(0, 0.35, n_head)\n",
    "head = np.c_[R*np.cos(theta), R*np.sin(theta)]\n",
    "y_head = np.full(n_head, 0)\n",
    "\n",
    "# Olhos: dois blobs gaussianos\n",
    "n_eye = 100\n",
    "eye_left  = rng.normal(loc=[-3.2,  3.0], scale=[0.45, 0.45], size=(n_eye//2, 2))\n",
    "eye_right = rng.normal(loc=[ 3.2,  3.0], scale=[0.45, 0.45], size=(n_eye - n_eye//2, 2))\n",
    "eyes = np.vstack([eye_left, eye_right])\n",
    "y_eyes = np.full(eyes.shape[0], 1)\n",
    "\n",
    "# Boca: arco inferior com jitter (sorriso)\n",
    "n_mouth = 100\n",
    "phi = rng.uniform(np.deg2rad(200), np.deg2rad(340), n_mouth)  # arco de 200° a 340°\n",
    "Rm = 5 + rng.normal(0, 0.22, n_mouth)\n",
    "mouth = np.c_[Rm*np.cos(phi), -1 + Rm*np.sin(phi)]\n",
    "mouth += rng.normal(0, [0.12, 0.15], mouth.shape)  # engrossar um pouco\n",
    "y_mouth = np.full(n_mouth, 2)\n",
    "\n",
    "# Ruído: pontos aleatórios\n",
    "n_noise = 100\n",
    "noise = rng.uniform(low=[-13, -13], high=[13, 13], size=(n_noise, 2))\n",
    "y_noise = np.full(n_noise, -1)\n",
    "\n",
    "# Concatenar\n",
    "X_synthetic = np.vstack([head, eyes, mouth, noise])\n",
    "true_labels  = np.concatenate([y_head, y_eyes, y_mouth, y_noise])"
   ]
  },
  {
   "cell_type": "code",
   "execution_count": null,
   "metadata": {},
   "outputs": [],
   "source": [
    "# Visualizar os dados sintéticos\n",
    "plt.figure(figsize=(12, 6))\n",
    "\n",
    "plt.subplot(1, 2, 1)\n",
    "colors = ['red', 'blue', 'green', 'gray']\n",
    "for i in range(4):\n",
    "    if i == 3:  # ruído\n",
    "        mask = true_labels == -1\n",
    "        plt.scatter(X_synthetic[mask, 0], X_synthetic[mask, 1], c=colors[i], alpha=0.6, s=30, marker='x', label='Ruído')\n",
    "    else:\n",
    "        mask = true_labels == i\n",
    "        plt.scatter(X_synthetic[mask, 0], X_synthetic[mask, 1], c=colors[i], alpha=0.7, s=50, label=f'Cluster {i+1}')\n",
    "\n",
    "plt.title('Dados Sintéticos - Classes Verdadeiras')\n",
    "plt.xlabel('Feature 1')\n",
    "plt.ylabel('Feature 2')\n",
    "plt.legend()\n",
    "plt.grid(True, alpha=0.3)\n",
    "\n",
    "plt.subplot(1, 2, 2)\n",
    "plt.scatter(X_synthetic[:, 0], X_synthetic[:, 1], c='black', alpha=0.6, s=30)\n",
    "plt.title('Dados Sintéticos - Sem Labels')\n",
    "plt.xlabel('Feature 1')\n",
    "plt.ylabel('Feature 2')\n",
    "plt.grid(True, alpha=0.3)\n",
    "\n",
    "plt.tight_layout()\n",
    "plt.show()"
   ]
  },
  {
   "cell_type": "code",
   "execution_count": null,
   "metadata": {},
   "outputs": [],
   "source": [
    "dbscan = DBSCAN(eps=1.3, min_pts=7)\n",
    "labels = dbscan.fit_predict(X_synthetic)\n",
    "\n",
    "plt.figure(figsize=(6, 6))\n",
    "unique_labels = np.unique(labels)\n",
    "colors = plt.cm.Set1(np.linspace(0, 1, len(unique_labels)))\n",
    "\n",
    "for k, label in enumerate(unique_labels):\n",
    "    if label == -1:\n",
    "        # Ruído\n",
    "        mask = labels == label\n",
    "        plt.scatter(X_synthetic[mask, 0], X_synthetic[mask, 1], c='black', marker='x', s=30, alpha=0.6, label='Ruído')\n",
    "    else:\n",
    "        # Clusters\n",
    "        mask = labels == label\n",
    "        plt.scatter(X_synthetic[mask, 0], X_synthetic[mask, 1], c=[colors[k]], s=50, alpha=0.7, label=f'Cluster {label}')\n",
    "\n",
    "# Destacar core points\n",
    "if len(dbscan.core_samples_) > 0:\n",
    "    plt.scatter(X_synthetic[dbscan.core_samples_, 0], \n",
    "                X_synthetic[dbscan.core_samples_, 1],\n",
    "                s=100, facecolors='none', edgecolors='black', \n",
    "                linewidth=2, alpha=0.8)\n",
    "\n",
    "plt.tight_layout()\n",
    "plt.show()"
   ]
  },
  {
   "cell_type": "markdown",
   "metadata": {},
   "source": [
    "## Aplicando DBSCAN aos Dados Sintéticos\n",
    "\n",
    "Agora vamos aplicar nosso algoritmo DBSCAN:"
   ]
  },
  {
   "cell_type": "code",
   "execution_count": null,
   "metadata": {},
   "outputs": [],
   "source": [
    "# Testar diferentes valores de eps e min_pts\n",
    "eps_values = [0.5, 1.3, 2.0]\n",
    "min_pts_values = [3, 5, 8]\n",
    "\n",
    "fig, axes = plt.subplots(3, 3, figsize=(15, 15))\n",
    "fig.suptitle('DBSCAN com Diferentes Parâmetros', fontsize=16)\n",
    "\n",
    "for i, eps in enumerate(eps_values):\n",
    "    for j, min_pts in enumerate(min_pts_values):\n",
    "        # Aplicar DBSCAN\n",
    "        dbscan = DBSCAN(eps=eps, min_pts=min_pts)\n",
    "        labels = dbscan.fit_predict(X_synthetic)\n",
    "        \n",
    "        # Visualizar resultados\n",
    "        ax = axes[i, j]\n",
    "        \n",
    "        unique_labels = np.unique(labels)\n",
    "        colors = plt.cm.Set1(np.linspace(0, 1, len(unique_labels)))\n",
    "        \n",
    "        for k, label in enumerate(unique_labels):\n",
    "            if label == -1:\n",
    "                # Ruído\n",
    "                mask = labels == label\n",
    "                ax.scatter(X_synthetic[mask, 0], X_synthetic[mask, 1], \n",
    "                          c='black', marker='x', s=30, alpha=0.6, label='Ruído')\n",
    "            else:\n",
    "                # Clusters\n",
    "                mask = labels == label\n",
    "                ax.scatter(X_synthetic[mask, 0], X_synthetic[mask, 1], \n",
    "                          c=[colors[k]], s=50, alpha=0.7, label=f'Cluster {label}')\n",
    "        \n",
    "        # Destacar core points\n",
    "        if len(dbscan.core_samples_) > 0:\n",
    "            ax.scatter(X_synthetic[dbscan.core_samples_, 0], \n",
    "                      X_synthetic[dbscan.core_samples_, 1],\n",
    "                      s=100, facecolors='none', edgecolors='black', \n",
    "                      linewidth=2, alpha=0.8)\n",
    "        \n",
    "        ax.set_title(f'eps={eps}, min_pts={min_pts}\\n{dbscan.n_clusters_} clusters')\n",
    "        ax.set_xlabel('Feature 1')\n",
    "        ax.set_ylabel('Feature 2')\n",
    "        ax.grid(True, alpha=0.3)\n",
    "\n",
    "plt.tight_layout()\n",
    "plt.show()"
   ]
  },
  {
   "cell_type": "markdown",
   "metadata": {},
   "source": [
    "### Análise com Parâmetros Ótimos\n",
    "\n",
    "Vamos escolher os parâmetros que melhor capturam a estrutura dos dados:"
   ]
  },
  {
   "cell_type": "code",
   "execution_count": null,
   "metadata": {},
   "outputs": [],
   "source": [
    "# Parâmetros que parecem funcionar melhor\n",
    "best_eps = 1.3\n",
    "best_min_pts = 5\n",
    "\n",
    "# Aplicar DBSCAN com os melhores parâmetros\n",
    "dbscan_best = DBSCAN(eps=best_eps, min_pts=best_min_pts)\n",
    "labels_best = dbscan_best.fit_predict(X_synthetic)\n",
    "\n",
    "# Análise detalhada\n",
    "unique_labels = np.unique(labels_best)\n",
    "n_clusters = len(unique_labels) - (1 if -1 in unique_labels else 0)\n",
    "n_noise = np.sum(labels_best == -1)\n",
    "n_core_samples = len(dbscan_best.core_samples_)\n",
    "\n",
    "print(f\"Resultados do DBSCAN (eps={best_eps}, min_pts={best_min_pts}):\")\n",
    "print(f\"- Número de clusters encontrados: {n_clusters}\")\n",
    "print(f\"- Número de pontos de ruído: {n_noise}\")\n",
    "print(f\"- Número de core samples: {n_core_samples}\")\n",
    "print(f\"- Labels únicos: {unique_labels}\")"
   ]
  },
  {
   "cell_type": "code",
   "execution_count": null,
   "metadata": {},
   "outputs": [],
   "source": [
    "# Classificar pontos por tipo\n",
    "core_mask = np.zeros(len(X_synthetic), dtype=bool)\n",
    "if len(dbscan_best.core_samples_) > 0:\n",
    "    core_mask[dbscan_best.core_samples_] = True\n",
    "\n",
    "border_mask = (labels_best != -1) & (~core_mask)\n",
    "noise_mask = labels_best == -1\n",
    "\n",
    "print(f\"Classificação dos pontos:\")\n",
    "print(f\"- Core points: {np.sum(core_mask)}\")\n",
    "print(f\"- Border points: {np.sum(border_mask)}\")\n",
    "print(f\"- Noise points: {np.sum(noise_mask)}\")"
   ]
  },
  {
   "cell_type": "code",
   "execution_count": null,
   "metadata": {},
   "outputs": [],
   "source": [
    "# Visualização detalhada dos tipos de pontos\n",
    "plt.figure(figsize=(15, 5))\n",
    "\n",
    "# Subplot 1: Clusters encontrados\n",
    "plt.subplot(1, 3, 1)\n",
    "colors = plt.cm.Set1(np.linspace(0, 1, max(len(unique_labels), 3)))\n",
    "\n",
    "for i, label in enumerate(unique_labels):\n",
    "    if label == -1:\n",
    "        mask = labels_best == label\n",
    "        plt.scatter(X_synthetic[mask, 0], X_synthetic[mask, 1], \n",
    "                   c='black', marker='x', s=50, alpha=0.8, label='Ruído')\n",
    "    else:\n",
    "        mask = labels_best == label\n",
    "        plt.scatter(X_synthetic[mask, 0], X_synthetic[mask, 1], \n",
    "                   c=[colors[i]], s=60, alpha=0.8, label=f'Cluster {label}')\n",
    "\n",
    "plt.title(f'DBSCAN - Clusters Encontrados\\n{n_clusters} clusters, {n_noise} ruído')\n",
    "plt.xlabel('Feature 1')\n",
    "plt.ylabel('Feature 2')\n",
    "plt.legend()\n",
    "plt.grid(True, alpha=0.3)\n",
    "\n",
    "# Subplot 2: Tipos de pontos\n",
    "plt.subplot(1, 3, 2)\n",
    "plt.scatter(X_synthetic[core_mask, 0], X_synthetic[core_mask, 1], \n",
    "           c='red', s=80, alpha=0.8, label='Core Points', marker='o')\n",
    "plt.scatter(X_synthetic[border_mask, 0], X_synthetic[border_mask, 1], \n",
    "           c='blue', s=60, alpha=0.8, label='Border Points', marker='s')\n",
    "plt.scatter(X_synthetic[noise_mask, 0], X_synthetic[noise_mask, 1], \n",
    "           c='black', s=40, alpha=0.8, label='Noise Points', marker='x')\n",
    "\n",
    "plt.title('Classificação dos Pontos')\n",
    "plt.xlabel('Feature 1')\n",
    "plt.ylabel('Feature 2')\n",
    "plt.legend()\n",
    "plt.grid(True, alpha=0.3)\n",
    "\n",
    "# Subplot 3: Comparação com ground truth\n",
    "plt.subplot(1, 3, 3)\n",
    "for i in range(4):\n",
    "    if i == 3:  # ruído\n",
    "        mask = true_labels == -1\n",
    "        plt.scatter(X_synthetic[mask, 0], X_synthetic[mask, 1], \n",
    "                   c='gray', alpha=0.6, s=30, marker='x', label='Ruído Real')\n",
    "    else:\n",
    "        mask = true_labels == i\n",
    "        plt.scatter(X_synthetic[mask, 0], X_synthetic[mask, 1], \n",
    "                   c=colors[i], alpha=0.7, s=50, label=f'Cluster Real {i+1}')\n",
    "\n",
    "plt.title('Ground Truth')\n",
    "plt.xlabel('Feature 1')\n",
    "plt.ylabel('Feature 2')\n",
    "plt.legend()\n",
    "plt.grid(True, alpha=0.3)\n",
    "\n",
    "plt.tight_layout()\n",
    "plt.show()"
   ]
  },
  {
   "cell_type": "markdown",
   "metadata": {},
   "source": [
    "## Estimativa do Parâmetro $\\varepsilon$ usando K-Distance\n",
    "\n",
    "Uma das maiores dificuldades do DBSCAN é escolher o valor apropriado para o parâmetro $\\varepsilon$ (eps). O método **K-Distance** é uma heurística eficaz para estimar este parâmetro.\n",
    "\n",
    "O método K-Distance consiste em:\n",
    "\n",
    "1. **Calcular a k-ésima distância mais próxima** para cada ponto no dataset\n",
    "2. **Ordenar essas distâncias** em ordem decrescente\n",
    "3. **Identificar o \"cotovelo\"** no gráfico resultante\n",
    "\n",
    "A intuição é que pontos dentro de clusters densos terão k-ésimas distâncias pequenas, enquanto pontos de ruído ou em bordas de clusters terão distâncias maiores.\n",
    "\n",
    "### Algoritmo K-Distance:\n",
    "\n",
    "Para um dataset $D$ e parâmetro $k = \\text{minPts} - 1$:\n",
    "\n",
    "1. Para cada ponto $p_i \\in D$:\n",
    "   - Calcule $d_k(p_i)$ = distância ao k-ésimo vizinho mais próximo\n",
    "2. Ordene os valores $d_k(p_i)$\n",
    "3. Plote o gráfico K-Distance\n",
    "4. Escolha $\\varepsilon$ no ponto onde a curva tem maior curvatura (cotovelo)"
   ]
  },
  {
   "cell_type": "code",
   "execution_count": null,
   "metadata": {},
   "outputs": [],
   "source": [
    "from sklearn.neighbors import NearestNeighbors\n",
    "\n",
    "def plot_k_distance(X, min_pts, title=\"K-Distance Plot\"):\n",
    "    \"\"\"Plota o gráfico K-Distance usando sklearn.NearestNeighbors.\"\"\"\n",
    "    k = int(min_pts - 1)\n",
    "\n",
    "    nn = NearestNeighbors(n_neighbors=k+1, metric=\"euclidean\")\n",
    "    nn.fit(X)\n",
    "    distances, _ = nn.kneighbors(X)\n",
    "\n",
    "    kth_distances = distances[:, k]\n",
    "    k_distances_sorted = np.sort(kth_distances)\n",
    "\n",
    "    # Plot\n",
    "    plt.figure(figsize=(10, 6))\n",
    "    plt.plot(range(len(k_distances_sorted)), k_distances_sorted, linewidth=2, label=f'{k}-distance')\n",
    "    plt.xlabel(\"Pontos ordenados por distância\")\n",
    "    plt.ylabel(f\"{k}-distance\")\n",
    "    plt.title(title)\n",
    "    plt.grid(True, alpha=0.3)\n",
    "    plt.legend()\n",
    "    plt.tight_layout()\n",
    "    plt.show()"
   ]
  },
  {
   "cell_type": "code",
   "execution_count": null,
   "metadata": {},
   "outputs": [],
   "source": [
    "plot_k_distance(X_synthetic, min_pts=5, title=\"K-Distance Plot para Dados Sintéticos\")"
   ]
  },
  {
   "cell_type": "markdown",
   "metadata": {},
   "source": [
    "## Vantagens e Desvantagens do DBSCAN\n",
    "\n",
    "### Vantagens:\n",
    "\n",
    "1. **Não requer especificar o número de clusters antecipadamente**\n",
    "2. **Pode encontrar clusters de forma arbitrária** (não apenas esféricos)\n",
    "3. **Identifica automaticamente outliers/ruído**\n",
    "4. **Robusto a outliers** (não afetam a formação dos clusters)\n",
    "5. **Determinístico** (sempre produz os mesmos resultados)\n",
    "\n",
    "### Desvantagens:\n",
    "\n",
    "1. **Sensível aos parâmetros** eps e min_pts\n",
    "2. **Dificuldade com clusters de densidades diferentes**\n",
    "3. **Problemas em alta dimensionalidade** (\"curse of dimensionality\")\n",
    "4. **Complexidade computacional** O(n²) no pior caso\n",
    "5. **Requer escolha cuidadosa da métrica de distância**"
   ]
  },
  {
   "cell_type": "markdown",
   "metadata": {},
   "source": [
    "## Exercícios"
   ]
  },
  {
   "cell_type": "markdown",
   "metadata": {},
   "source": [
    "### Exercício 1: Ajuste de Parâmetros no DBSCAN em 3D\n",
    "\n",
    "Com os dados das **três esferas concêntricas**, realize:\n",
    "\n",
    "1. Plotar o K-Distance para diferentes valores de `min_pts` e sugerir um intervalo adequado para `eps`.\n",
    "2. Selecionar os melhores parâmetros de `min_pts` e `eps`.\n",
    "3. Visualizar em 3D os clusters encontrados (cores diferentes) e comentar a escolha de `eps` e `min_samples`."
   ]
  },
  {
   "cell_type": "code",
   "execution_count": null,
   "metadata": {},
   "outputs": [],
   "source": [
    "from sklearn.preprocessing import StandardScaler\n",
    "\n",
    "def generate_concentric_spheres(radii=[3, 15], n_samples_per_sphere=1000, noise=0.2, random_state=42):\n",
    "    \"\"\"\n",
    "    Gera pontos em 3 esferas concêntricas no espaço 3D.\n",
    "    - radii: lista com os raios das esferas\n",
    "    - n_samples_per_sphere: pontos em cada esfera\n",
    "    - noise: variação radial para \"espessura\" da casca\n",
    "    \"\"\"\n",
    "    rng = np.random.default_rng(random_state)\n",
    "    X, y = [], []\n",
    "    \n",
    "    for i, r in enumerate(radii):\n",
    "        # amostrar ângulos uniformemente\n",
    "        phi = rng.uniform(0, 2*np.pi, n_samples_per_sphere)       # ângulo azimutal\n",
    "        costheta = rng.uniform(-1, 1, n_samples_per_sphere)       # cos(theta)\n",
    "        theta = np.arccos(costheta)                               # ângulo polar\n",
    "        \n",
    "        # raio com ruído\n",
    "        rr = r + noise * rng.standard_normal(n_samples_per_sphere)\n",
    "        \n",
    "        # coordenadas cartesianas\n",
    "        x = rr * np.sin(theta) * np.cos(phi)\n",
    "        y_ = rr * np.sin(theta) * np.sin(phi)\n",
    "        z = rr * np.cos(theta)\n",
    "        \n",
    "        X.append(np.vstack((x, y_, z)).T)\n",
    "        y.append(np.full(n_samples_per_sphere, i))\n",
    "    \n",
    "    X = np.vstack(X)\n",
    "    y = np.concatenate(y)\n",
    "    return X, y\n",
    "\n",
    "X_spheres, y_spheres = generate_concentric_spheres(radii=[3, 8, 12], n_samples_per_sphere=200, noise=0.4)\n",
    "\n",
    "scaler = StandardScaler()\n",
    "X_spheres = scaler.fit_transform(X_spheres)"
   ]
  },
  {
   "cell_type": "code",
   "execution_count": null,
   "metadata": {},
   "outputs": [],
   "source": [
    "import plotly.express as px\n",
    "\n",
    "fig = px.scatter_3d(\n",
    "    x=X_spheres[:, 0],\n",
    "    y=X_spheres[:, 1],\n",
    "    z=X_spheres[:, 2],\n",
    "    color_continuous_scale=px.colors.qualitative.Vivid,\n",
    ")\n",
    "fig.update_traces(marker=dict(size=3))\n",
    "fig.show()"
   ]
  },
  {
   "cell_type": "markdown",
   "metadata": {},
   "source": [
    "### Exercício 2: DBSCAN com distância radial\n",
    "\n",
    "Usando os dados das **3 esferas concêntricas** do exercício anterior:\n",
    "\n",
    "1. Implemente a **distância radial** e use-a no DBSCAN. A **distância radial** entre dois pontos \\(x_i\\) e \\(x_j\\) é a diferença absoluta entre suas distâncias à origem: $d_{\\text{radial}}(x_i, x_j) = \\big|\\;\\|x_i\\|_2 - \\|x_j\\|_2\\;\\big|$\n",
    "2. Plote o **K-Distance radial** para sugerir `eps`.  \n",
    "3. Teste combinações de `eps` e `min_samples`.  \n",
    "4. Visualize em 3D os clusters obtidos e compare com o resultado usando distância euclidiana.  \n",
    "5. Comente brevemente qual configuração foi melhor e por quê a métrica radial ajuda nesse dataset."
   ]
  },
  {
   "cell_type": "markdown",
   "metadata": {},
   "source": [
    "### Exercício 3: Detecção de Anomalias com DBSCAN e DTW\n",
    "\n",
    "O **DTW (Dynamic Time Warping)** mede a similaridade entre séries temporais mesmo quando estão defasadas ou com velocidades diferentes, alinhando-as de forma elástica. Isso permite detectar padrões semelhantes sem que a defasagem atrapalhe.\n",
    "\n",
    "Pode ser calculado por:\n",
    "```python\n",
    "from dtaidistance import dtw\n",
    "\n",
    "n = len(X)              # número de séries\n",
    "D = np.zeros((n, n))    # matriz de distâncias\n",
    "\n",
    "for i in range(n):\n",
    "    for j in range(i+1, n):\n",
    "        dist = dtw.distance_fast(X[i], X[j])  # distância DTW\n",
    "        D[i, j] = D[j, i] = dist              # matriz simétrica\n",
    "````\n",
    "\n",
    "**Tarefas:**\n",
    "1. Use o dataset de senóides com variação e **anomalias simuladas**.  \n",
    "2. Adicione a métrica DTW no DBSCAN.\n",
    "3. Experimente diferentes valores de `eps` e `min_samples` até que o modelo consiga separar bem séries normais das anômalas.  \n",
    "4. Plote todas as séries, usando uma cor para as normais e outra para as anomalias detectadas (`label = -1`).  "
   ]
  },
  {
   "cell_type": "code",
   "execution_count": null,
   "metadata": {},
   "outputs": [],
   "source": [
    "def generate_time_series_dataset(n_series=50, length=100, noise=0.1, n_outliers=2, random_state=42):\n",
    "    rng = np.random.default_rng(random_state)\n",
    "    X, y = [], []\n",
    "    t = np.linspace(0, 4*np.pi, length)\n",
    "\n",
    "    # séries normais: senóide com amplitude e frequência ligeiramente diferentes\n",
    "    for _ in range(n_series):\n",
    "        amp = rng.uniform(0.8, 1.2)         # amplitude\n",
    "        freq = rng.uniform(0.9, 1.1)        # frequência\n",
    "        phase = rng.uniform(0, 0.5*np.pi)   # pequena defasagem\n",
    "        series = amp * np.sin(freq * t + phase) + noise * rng.normal(size=length)\n",
    "        X.append(series)\n",
    "        y.append(0)  # normal\n",
    "\n",
    "    # outliers: picos ou deslocamentos fortes\n",
    "    for _ in range(n_outliers):\n",
    "        amp = rng.uniform(1.5, 2.0)         # amplitude anômala\n",
    "        freq = rng.uniform(1.2, 1.5)        # frequência anômala\n",
    "        series = amp * np.sin(freq * t) + noise * rng.normal(size=length)\n",
    "        if rng.random() < 0.5:\n",
    "            series[length//2] += 3  # pico\n",
    "        else:\n",
    "            series += rng.normal(2.0, 0.5)  # deslocamento\n",
    "        X.append(series)\n",
    "        y.append(-1)  # anomalia\n",
    "\n",
    "    return np.array(X), np.array(y)\n",
    "\n",
    "X_series, y_series = generate_time_series_dataset()\n",
    "\n",
    "plt.figure(figsize=(10,4))\n",
    "for i in range(5):\n",
    "    plt.plot(X_series[i], alpha=0.7, label=\"normal\" if i==0 else \"\")\n",
    "for i in range(-3,0):\n",
    "    plt.plot(X_series[i], alpha=0.7, color=\"red\", label=\"anomalia\" if i==-1 else \"\")\n",
    "plt.title(\"Séries temporais com anomalias\")\n",
    "plt.legend()\n",
    "plt.show()"
   ]
  },
  {
   "cell_type": "code",
   "execution_count": 2,
   "metadata": {},
   "outputs": [
    {
     "data": {
      "application/vnd.plotly.v1+json": {
       "config": {
        "plotlyServerURL": "https://plot.ly"
       },
       "data": [
        {
         "hovertemplate": "x=%{x}<br>y=%{y}<br>z=%{z}<extra></extra>",
         "legendgroup": "",
         "marker": {
          "color": "#636efa",
          "size": 3,
          "symbol": "circle"
         },
         "mode": "markers",
         "name": "",
         "scene": "scene",
         "showlegend": false,
         "type": "scatter3d",
         "x": {
          "bdata": "9zLjg0Vpqj8Rad6OXyPMv9XXAh9Y/dY/NH3eMURTwb8Vt3za7DCrPwY6M9186t0/wAIuTzU8Ir+5lmZp9Oi6P4OZoUx7B9E/yk4R1sQg478XMVz0+Qjcvx1qTYdiWeA/vcUr3iGq1b/Ty2F9zpfEPzkhmPWKa+C/9SyUdI9TqT8UIUOBS0rcvwtASxI0/9M/FK6Lo+I+wD+RWbWbr8vZvw+Zmpj+40g/hpVkLwBD278ZAxyVBBLYP83pEr82w8A/K7I/uvJkqT/L4mmfM+2nP18eecH2Rci/9Vii/wMC4z9+so0iwRrSP+3ErBmP1Ma/984fv9Zbpb+9SpuWOZ7kPyaS5mUMgb+/7OFnnMey378dX5cxTW7Uv5zBi0tYYcA/6X8I2B0Q1j8Hi+3/K0navxPJrs2bLHq/Fwxu2EUAyb+E46zXx7DevyGLV1vU2dA/6BR1T0hbw790EYAoo9HQv/pMaccIBsw/nnrXkC70vT+12u9tpUPdvwYd8/R1wsC/kP8RPEuS0r8b2JF3DDrUP1QjsPgLT8E/8KiMZUg71D9zroNiKNC4P4RMUH8TPtO/x0NucHq/xL8Y3Y3s55azP/MaL1zHSN+/xr3b3rJr2r/0d4ExSY7DPwixP8aYstQ/xc2MN+2e0L+gxLj5x6jcvyffGMkmO+O/cVWz7IQBjj/qXK9E89/Nv8r5t3wGY92/Myjjg9XU5L+EcEIRD3nKv8mntIvRNNY/MUfiWE3Qx795Nf6aMmWlP4HdrqXgBNe/fO/dR5wSwj/QxUHSTFegP1LXOq5CReA/MsH1XqE0wL+6nLiR8ljCv66R5wp3CNC/JwJkTJCS1b+4UgedPjGtP4HkMU91h8K/b/wiodwQ4L/ds1xCOHXJPw4RhVEAAck/rLuxWhuA4j/e8czCVQTcP7fv97SUlrG/zhdcihoD47/DwnJpsOfTP8796kARdde/LSWXYi3P0D/SF12OJ4a5vzcCijN8d9S/tPqA0YHy179AvWOt+VHFv/0PXOFA49O/nJzRxzxUwb/BTjEZfO3ZP8zYa5rZN9U//4xTtRhU4D9rUohBo9/VPx+Yc0HkScS/B1Trg08DtL/rj4E20E7jP9U8QO9B8K0/Fsb9ENiqw78CaISglZ3hv5L7vI+GI7y/7fr+voue2D80Co7+n2jWP8Eu2I+sFN2/pevvGcCYwT9nw2w0tn7Dv4NUN5pnR9u/eXOlt11m0T9Fl0ghtO7WP7gSG7oh3lY/aEdtf/MYvL8wGIEd3anUv/W1cJow2si/E6XJTMiM2b+ds4XnSynZv+JN057zmto/TLwGHXIY4r9JWjOAMAPTPxowt1VOFeK/AgLxRopF0L9oVvW15zfVP3S/50o4Vt4/PcNypc4S4L+0v+UPgFrPP02WS79j3dY/eElRHOHT4b8N2Dw76N3TvwCyiKfRZdS/ndj67A5f3j8QlC+wDIXXP/IvcT0oJeG/kM+7DqVBqz8i4JtCwtHKP0HW+aAzTOC/GLmXX3Hn0L+VWSTqwyTbPzIaRmDrAOW/rQWiMtLl3r8cFeukURKyvyMJiF2YFsO/1vPMCq8Y4r8ZtIBmpuncv8oDu0J9HNY/deIaiLsOzD/Ek9+lZ17YPyUFOGJ3C80/7NI2LdyY4L/Znsz8vvfUP4YxJrsFbdG/vYjevHJGwL+y6d+5QZXRv/FYPoR9u7u/TRL7HdxjpD/IZAxKBTfLPxqK4zeNo9A/hGSVz33EmT9MpZXCnunUP7uyBzkXjuK/6TDoBUE63b+NKqsLSCjMP1WWITaa5cw/2AAJEBoV0L+GJC6lsDzTP6AcxJjyDcK/N3KwJLd23r8ltuL5Sommv4VAvflyvto/yF0xArB7yD9mY+h09y/ZP0qLRdnqvNK/hB8Vtyjm3z9pG7sdx0HePzR2ddpnCKC/B2xYwam62j+f8y2h6A3HP1Oltys7feG/0iWXdrU80b+Je/CNJxWjP+8j5Voc1bi/pTj5EzVU2r8YqdltLVzEP7NbJ4TZfaG/LQd0btYGq7+SbJIHat/iP+gyHTDREEm/+2ZiziQN2D8qypUOezvQP8t+N4Epqpg/hJB6ouf2xz/TNSspsgPYv5Rcn7n4H9M/7qMUvZnWxz++yvijfj7Tv/XGBpoLhdO/u4WhAy3lyr+nCSWRiW3OvwKyYluVHs4/xfDEYNnT+D8LFW/CBmbQv//G+vZN6r+/eKRf33EGm79gIf7WIvjtv32HbsCmgPE/exynruW88z8dbbn9Num3P3Pd5YaNsvi/cips5Dzf9T/TkteGpaD4v1Tyhv3ZYfM/B55Ib6yP2r9AghXVVtjaP9IUAFJKwPE/zgsKTUVl8L9x5AeB3IfbP2d0p807jPU/M4Sbl0dV5T9K7NpaGoP4P0dr/6D5wfC/HqjeTKIz9D83df/xrnXyP2o/xZM28OS/Mh6CQstAvr9Zw/B+4aDKP9Rx3Hc10vA/KwdWKNoWqb+JmundE8PYP6yON+/5/Pc/A3cFmWFIvT9Ul7DCLornv3pkZkqyeOI/S3PCM0Qh9j/Nt8kLjIX2v2UKSeAytt+/oFgmu/o44j8Nb0TyscXvv1z203Tzfu4/q8iscuLp4b++kLuuUl6mP20mN87aTug/2+81e/Zy7r9LEdYCTOPqP/jocbysftO/CrnSlcOg9L8t3pPlUEnyv/sb0w/dx86/oau+xJRz8D9UkA3vYa3fP147i4LmTvY/thc+/ZrT4b/WHf0aCLbKv1xdrDeuJNc/ngTk2+M98z9bJvMmbwLTv1f+QvsRP/K/DgdCGi0J6z+5s7T/Gr3dvy3cmfea/ds/LYgXmQXl3b+/gUbGuwL0v0RksbpTf+q/QJQt7pDg9D9wTqVQe/n2v6zebn0BYe4/3Ra/3DRw8L9MvueIGsL2P/Os53vjMdo/YPYnEWRI6D93BFnvK/X2v24Q43EqHOu/UKqXEbz367+TAtKgWaH4vw7fu/rQv+0/WWAg9m5Whr+R9C/39zP3vyJR0Gmvn9a/u7dd/GPV3z8vk9/dZEy6Pxqb6c1F3dy/SXKnF+sk8z+xQ+E1PxDwv3YbbKPGHbm/N7+PTC7h8L9ml51DMxbnv21trx/yut6//xiCuGsQrz+t+zxoFaXlv6sBlRq6n9U/MkI9QqQa8T/PFVkimO7Cv4FUtKZmW/a/o8mmaHp11j9UUJYJaQ7GPwDAg7lr4/S/Zk+Kz82Z+L98+pxIu+b3Py8xxjqz+96/GkFRnX6x1z/kcGVdbd3SP3Cp5gMT4LE/QpT0WqYbzz9O+ytXO/Dov/8MMYSCIOs/0MzwJAjT6r/i6ejgi+/1P0dmSFBiO+y/Ty7RSEmL8b9BfISPmBf3PxhiV7QDIPc/vCI5+aP97D9e/na5IpP1P8lE+wMCWmQ/p22DB+/V7j97XTbJk7L5vxLD3px1QPi/ChhHSpLf4r8k0V95Ucb3PxnqhMzfnvM/6xRKs9tm8b8B5oirFMXzP9RAbHGQh9y/NoSDs257xj8t0gGGoZfVvyNyorFs1+m/aqoPRsU/6b8ZmEGHbOP0PxQaMx9em+w/8vZR349X6T8GpmlExTL6P9+uP+6vE/m/DefY+2rG9L9L4egZ5FTnv4p6Poz7wvC/5AVVIncxxj8SUw8kenTqPzjZykP6LcC/z+JS649N5L9qVa3qYpyhP44IIflLMPO/rSS+11kk1b+8L66lpI66P1wCYLby7+S/CYd3cJUk9j+99DO0nT73P0ELpKzv7fq/XrbFdmqR2b/GtlDiagHsP5Lj8yeBSOw/Npy22IS+4z+qvGCyYaPhP6OP1Q7U0Pc/gdrxPLP6zj8xePw7K67xP2UAfw9pBfQ/ohwZFLqp7r8XtK+vY1+nP6scpihWWuC/9PpciChU7L8aqDvGYM7gP3vmWVfyV/Q/0txjnqnk6T/8d+hrBk/yv8qtHarm3+g/s+0yiLh5yj9BFDpFdOLnP7zPgvkf8qG/GOqeAeZe8T9mmMbpDKP2v7y369EImPS/SGZlYN938j+mEpiIo53ivz2mjJgkFeE/1Kb2PBCd1L/DgcR654nbP6u/pRJx0PC/LSxyVOJK1D+NUkVcysvwv2nqqIeocOC/1Mvr0Fmj8D/beXSKGeroP3CnOa0U7Oy/24009DrD9T8t5Gx9vb6nP2unxzMacLC/pPMAKfcd3L8/da4O9ue1vxe4boRG8+S/hgOthRiu6D8BmI/19irtvzlmzv0r/u0/Gr3OTuJp7T9KDD1Kh6TTv98/jJUk5uQ/KH0/jt8J9b+Nnmo/DDf6v8fVBYOGDOu/2J5PEfwpzL9+AxiQeUn9vy6VSVagm+6/dZgtZEUYAsBeMMskqJTjv5FLhQfJSOY/+5IGpcKuAUCh5c1MSsfgP1y5vI37wP0/vYzJPAgv9r/QSOcMO5bwP3PiQtHbdvo/z/s8/cTz878Sle8quP30v5IE1ub4X/s/IEr5Z3/8AED7UB3SeWHMP6M1c5cTf/6/bc4GrSvj0D/rWAgOuNPnv/Sdi4XO9tk/tD6joNNN4j+V8Cdhev3fP5bgPhl5BQHAWwxehpuK4D9+UGgHbB/bPzNqnj/QBfQ/PTxoZBip3r8bxzqmt5nyv3L3qYUbC/A/wvdJGP7n8r+OCCjXUTPQv9XUZHd9F/G/L4KPwwcd5D9U580Px0X7P4vz6LpxnPo//nCJbUs6+D/5Z1UP3/j7P3acy5XY6fI/a+I+/vk06b/GlEW5BuT4P1eeSFCqmuk/tXPp9xFHoD+QVKj8rxPtP1tXaT/3efG/7XnAiCGfAUApUcOtjaz+P7DINxjSEf+/fl6OdD6k678jGaU+0yUBQJXVCXPCNwDAo7gzhnSR6D/yL7GWDyHwP7CwrEKIUwBAIswnLu9TAcA4L4tEpa/9v1rjO6YW6/A/HpqJtNBn9b/2xwPoRTHzvxgml5aFdADArZ97Ip74+T8U0Z38XU7xv4kMvtvuxOc/seiYxd0m0D9hw3HYxbv4P2aJOV7zDgDAEtztK3jI9r95DVkCSIPwv05z4kW6Z/+/4v2fGkUX9r/0FyJLZXf+P3POGsYIdO0/yywVRAKe4L+0Cge9rRzzv55zFoTqLPa/1OeXOoH3AMBUGiTha5Txv/Qo9qBDvPC/r3rhY5R9AcClNR+3a0vrv2s7tfKLYvW/b40VCvtE+b9m3mLn9Mv1P7Nm4Nq91PA/gd9KqjJ12r/xdT1rUOf7v4nUI7KcEOA/AJJGVIX36r8DOQvvr/+qP2GUIVC2HMK/TlR+wKuZ6z8b6QA5rFYAQL9ANVpx1fu/0Ss/USfC8r9SvIdXADX9P2aa6kit1f0/eODoO9g99L9IxJ/BsOL4PxHwoMHAVADApXDeckZtAECcYDc25+X1P//LvsDtw+u/QslpI4AC978zoCalegruP+vccooSOLi/En5EMBFn8T+lTb1YYH4AwKbQpVgy+wHAXCUR/A5n9z+2z7/C3OzcP/pjyhp8uvC/Ph6p8OzH9D8RfjkdSDv5v0qb78f/pQHAI9f8nqeEzr/aeZQe/wTyP9QoEXOVqNM/MqvgXZs/+L/GxBl696UBwAddsK13SwBAyH6RojaL8T+V5tagtyD3P2xvxrIGl+Y/oGKykG7B/b9Ia5bBrnrzP8m38nF9DPu/J07PKRgD9j+7Uv8fT+HmP9G22jEaTALAUcJNuqTP+L8ubvE3WaUCQJCrH3XxCv+/CmIbC1m9/L8aXJ2yhe32v+1s2i655P+/xcmGM2st+D+JBtOo1gXaP9wm7YPws/E/r1OWV2UI4L8Z7aEjxefovzxq8bjHYfU/KrRhVUVv/z+iR6qOGCXzv0XrFC6PQwLA5Ngu5Pvx679bUd6V737oPyrEf9vzs7u/8MOFC5Z2+b+nqESGMmXxv5FX+wpu/fU/hL5pAj1R/7+kzFhDe+UCwJBYssfSENA/bOZe0/L11T+Y9n9Ow6brP4qwnoFyfPW/kxtJgafq/T9vE6V8lnIBQMNxcUx+PP+//53O+dVk4j80EpclEl32Pxhq9Hvy+Ps/44LcZvlS8b9Ysr1o2DDyP43pETTjYc+/h22SJrQu97+Ymwd/nZX1v5gsmnxwtAFA2d+8Qv6TAsDFRIPjPYX/P2JQ6y7CAQJAsI52V9+i8D+m/7ODSiHkv80hFfOpDOm/uYhx9+Je+z/hzNI+zZf7P1xRtoiAYvo/Bg/uQykz4T8F4kTqdB3nP4I8P38wrgBA1rYA13qx7D+KOwRvH57zPwAsvcMEFf+/UEEnIk46+j9/MH35DGD6v6GmK0wTE/u/ryXgcrKe87/rMJIVbhz3PwR6SiP7uABAevkTRwLl5b9pmgTlJiHmP0LdXKN12N+/xWdmw6FH6T//nYC1yfj7P/oyg6H76/c/UJAlgvw/5r95DFLGXE3uP/W9+PurxP4/",
          "dtype": "f8"
         },
         "y": {
          "bdata": "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",
          "dtype": "f8"
         },
         "z": {
          "bdata": "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",
          "dtype": "f8"
         }
        }
       ],
       "layout": {
        "legend": {
         "tracegroupgap": 0
        },
        "margin": {
         "t": 60
        },
        "scene": {
         "domain": {
          "x": [
           0,
           1
          ],
          "y": [
           0,
           1
          ]
         },
         "xaxis": {
          "title": {
           "text": "x"
          }
         },
         "yaxis": {
          "title": {
           "text": "y"
          }
         },
         "zaxis": {
          "title": {
           "text": "z"
          }
         }
        },
        "template": {
         "data": {
          "bar": [
           {
            "error_x": {
             "color": "#2a3f5f"
            },
            "error_y": {
             "color": "#2a3f5f"
            },
            "marker": {
             "line": {
              "color": "#E5ECF6",
              "width": 0.5
             },
             "pattern": {
              "fillmode": "overlay",
              "size": 10,
              "solidity": 0.2
             }
            },
            "type": "bar"
           }
          ],
          "barpolar": [
           {
            "marker": {
             "line": {
              "color": "#E5ECF6",
              "width": 0.5
             },
             "pattern": {
              "fillmode": "overlay",
              "size": 10,
              "solidity": 0.2
             }
            },
            "type": "barpolar"
           }
          ],
          "carpet": [
           {
            "aaxis": {
             "endlinecolor": "#2a3f5f",
             "gridcolor": "white",
             "linecolor": "white",
             "minorgridcolor": "white",
             "startlinecolor": "#2a3f5f"
            },
            "baxis": {
             "endlinecolor": "#2a3f5f",
             "gridcolor": "white",
             "linecolor": "white",
             "minorgridcolor": "white",
             "startlinecolor": "#2a3f5f"
            },
            "type": "carpet"
           }
          ],
          "choropleth": [
           {
            "colorbar": {
             "outlinewidth": 0,
             "ticks": ""
            },
            "type": "choropleth"
           }
          ],
          "contour": [
           {
            "colorbar": {
             "outlinewidth": 0,
             "ticks": ""
            },
            "colorscale": [
             [
              0,
              "#0d0887"
             ],
             [
              0.1111111111111111,
              "#46039f"
             ],
             [
              0.2222222222222222,
              "#7201a8"
             ],
             [
              0.3333333333333333,
              "#9c179e"
             ],
             [
              0.4444444444444444,
              "#bd3786"
             ],
             [
              0.5555555555555556,
              "#d8576b"
             ],
             [
              0.6666666666666666,
              "#ed7953"
             ],
             [
              0.7777777777777778,
              "#fb9f3a"
             ],
             [
              0.8888888888888888,
              "#fdca26"
             ],
             [
              1,
              "#f0f921"
             ]
            ],
            "type": "contour"
           }
          ],
          "contourcarpet": [
           {
            "colorbar": {
             "outlinewidth": 0,
             "ticks": ""
            },
            "type": "contourcarpet"
           }
          ],
          "heatmap": [
           {
            "colorbar": {
             "outlinewidth": 0,
             "ticks": ""
            },
            "colorscale": [
             [
              0,
              "#0d0887"
             ],
             [
              0.1111111111111111,
              "#46039f"
             ],
             [
              0.2222222222222222,
              "#7201a8"
             ],
             [
              0.3333333333333333,
              "#9c179e"
             ],
             [
              0.4444444444444444,
              "#bd3786"
             ],
             [
              0.5555555555555556,
              "#d8576b"
             ],
             [
              0.6666666666666666,
              "#ed7953"
             ],
             [
              0.7777777777777778,
              "#fb9f3a"
             ],
             [
              0.8888888888888888,
              "#fdca26"
             ],
             [
              1,
              "#f0f921"
             ]
            ],
            "type": "heatmap"
           }
          ],
          "histogram": [
           {
            "marker": {
             "pattern": {
              "fillmode": "overlay",
              "size": 10,
              "solidity": 0.2
             }
            },
            "type": "histogram"
           }
          ],
          "histogram2d": [
           {
            "colorbar": {
             "outlinewidth": 0,
             "ticks": ""
            },
            "colorscale": [
             [
              0,
              "#0d0887"
             ],
             [
              0.1111111111111111,
              "#46039f"
             ],
             [
              0.2222222222222222,
              "#7201a8"
             ],
             [
              0.3333333333333333,
              "#9c179e"
             ],
             [
              0.4444444444444444,
              "#bd3786"
             ],
             [
              0.5555555555555556,
              "#d8576b"
             ],
             [
              0.6666666666666666,
              "#ed7953"
             ],
             [
              0.7777777777777778,
              "#fb9f3a"
             ],
             [
              0.8888888888888888,
              "#fdca26"
             ],
             [
              1,
              "#f0f921"
             ]
            ],
            "type": "histogram2d"
           }
          ],
          "histogram2dcontour": [
           {
            "colorbar": {
             "outlinewidth": 0,
             "ticks": ""
            },
            "colorscale": [
             [
              0,
              "#0d0887"
             ],
             [
              0.1111111111111111,
              "#46039f"
             ],
             [
              0.2222222222222222,
              "#7201a8"
             ],
             [
              0.3333333333333333,
              "#9c179e"
             ],
             [
              0.4444444444444444,
              "#bd3786"
             ],
             [
              0.5555555555555556,
              "#d8576b"
             ],
             [
              0.6666666666666666,
              "#ed7953"
             ],
             [
              0.7777777777777778,
              "#fb9f3a"
             ],
             [
              0.8888888888888888,
              "#fdca26"
             ],
             [
              1,
              "#f0f921"
             ]
            ],
            "type": "histogram2dcontour"
           }
          ],
          "mesh3d": [
           {
            "colorbar": {
             "outlinewidth": 0,
             "ticks": ""
            },
            "type": "mesh3d"
           }
          ],
          "parcoords": [
           {
            "line": {
             "colorbar": {
              "outlinewidth": 0,
              "ticks": ""
             }
            },
            "type": "parcoords"
           }
          ],
          "pie": [
           {
            "automargin": true,
            "type": "pie"
           }
          ],
          "scatter": [
           {
            "fillpattern": {
             "fillmode": "overlay",
             "size": 10,
             "solidity": 0.2
            },
            "type": "scatter"
           }
          ],
          "scatter3d": [
           {
            "line": {
             "colorbar": {
              "outlinewidth": 0,
              "ticks": ""
             }
            },
            "marker": {
             "colorbar": {
              "outlinewidth": 0,
              "ticks": ""
             }
            },
            "type": "scatter3d"
           }
          ],
          "scattercarpet": [
           {
            "marker": {
             "colorbar": {
              "outlinewidth": 0,
              "ticks": ""
             }
            },
            "type": "scattercarpet"
           }
          ],
          "scattergeo": [
           {
            "marker": {
             "colorbar": {
              "outlinewidth": 0,
              "ticks": ""
             }
            },
            "type": "scattergeo"
           }
          ],
          "scattergl": [
           {
            "marker": {
             "colorbar": {
              "outlinewidth": 0,
              "ticks": ""
             }
            },
            "type": "scattergl"
           }
          ],
          "scattermap": [
           {
            "marker": {
             "colorbar": {
              "outlinewidth": 0,
              "ticks": ""
             }
            },
            "type": "scattermap"
           }
          ],
          "scattermapbox": [
           {
            "marker": {
             "colorbar": {
              "outlinewidth": 0,
              "ticks": ""
             }
            },
            "type": "scattermapbox"
           }
          ],
          "scatterpolar": [
           {
            "marker": {
             "colorbar": {
              "outlinewidth": 0,
              "ticks": ""
             }
            },
            "type": "scatterpolar"
           }
          ],
          "scatterpolargl": [
           {
            "marker": {
             "colorbar": {
              "outlinewidth": 0,
              "ticks": ""
             }
            },
            "type": "scatterpolargl"
           }
          ],
          "scatterternary": [
           {
            "marker": {
             "colorbar": {
              "outlinewidth": 0,
              "ticks": ""
             }
            },
            "type": "scatterternary"
           }
          ],
          "surface": [
           {
            "colorbar": {
             "outlinewidth": 0,
             "ticks": ""
            },
            "colorscale": [
             [
              0,
              "#0d0887"
             ],
             [
              0.1111111111111111,
              "#46039f"
             ],
             [
              0.2222222222222222,
              "#7201a8"
             ],
             [
              0.3333333333333333,
              "#9c179e"
             ],
             [
              0.4444444444444444,
              "#bd3786"
             ],
             [
              0.5555555555555556,
              "#d8576b"
             ],
             [
              0.6666666666666666,
              "#ed7953"
             ],
             [
              0.7777777777777778,
              "#fb9f3a"
             ],
             [
              0.8888888888888888,
              "#fdca26"
             ],
             [
              1,
              "#f0f921"
             ]
            ],
            "type": "surface"
           }
          ],
          "table": [
           {
            "cells": {
             "fill": {
              "color": "#EBF0F8"
             },
             "line": {
              "color": "white"
             }
            },
            "header": {
             "fill": {
              "color": "#C8D4E3"
             },
             "line": {
              "color": "white"
             }
            },
            "type": "table"
           }
          ]
         },
         "layout": {
          "annotationdefaults": {
           "arrowcolor": "#2a3f5f",
           "arrowhead": 0,
           "arrowwidth": 1
          },
          "autotypenumbers": "strict",
          "coloraxis": {
           "colorbar": {
            "outlinewidth": 0,
            "ticks": ""
           }
          },
          "colorscale": {
           "diverging": [
            [
             0,
             "#8e0152"
            ],
            [
             0.1,
             "#c51b7d"
            ],
            [
             0.2,
             "#de77ae"
            ],
            [
             0.3,
             "#f1b6da"
            ],
            [
             0.4,
             "#fde0ef"
            ],
            [
             0.5,
             "#f7f7f7"
            ],
            [
             0.6,
             "#e6f5d0"
            ],
            [
             0.7,
             "#b8e186"
            ],
            [
             0.8,
             "#7fbc41"
            ],
            [
             0.9,
             "#4d9221"
            ],
            [
             1,
             "#276419"
            ]
           ],
           "sequential": [
            [
             0,
             "#0d0887"
            ],
            [
             0.1111111111111111,
             "#46039f"
            ],
            [
             0.2222222222222222,
             "#7201a8"
            ],
            [
             0.3333333333333333,
             "#9c179e"
            ],
            [
             0.4444444444444444,
             "#bd3786"
            ],
            [
             0.5555555555555556,
             "#d8576b"
            ],
            [
             0.6666666666666666,
             "#ed7953"
            ],
            [
             0.7777777777777778,
             "#fb9f3a"
            ],
            [
             0.8888888888888888,
             "#fdca26"
            ],
            [
             1,
             "#f0f921"
            ]
           ],
           "sequentialminus": [
            [
             0,
             "#0d0887"
            ],
            [
             0.1111111111111111,
             "#46039f"
            ],
            [
             0.2222222222222222,
             "#7201a8"
            ],
            [
             0.3333333333333333,
             "#9c179e"
            ],
            [
             0.4444444444444444,
             "#bd3786"
            ],
            [
             0.5555555555555556,
             "#d8576b"
            ],
            [
             0.6666666666666666,
             "#ed7953"
            ],
            [
             0.7777777777777778,
             "#fb9f3a"
            ],
            [
             0.8888888888888888,
             "#fdca26"
            ],
            [
             1,
             "#f0f921"
            ]
           ]
          },
          "colorway": [
           "#636efa",
           "#EF553B",
           "#00cc96",
           "#ab63fa",
           "#FFA15A",
           "#19d3f3",
           "#FF6692",
           "#B6E880",
           "#FF97FF",
           "#FECB52"
          ],
          "font": {
           "color": "#2a3f5f"
          },
          "geo": {
           "bgcolor": "white",
           "lakecolor": "white",
           "landcolor": "#E5ECF6",
           "showlakes": true,
           "showland": true,
           "subunitcolor": "white"
          },
          "hoverlabel": {
           "align": "left"
          },
          "hovermode": "closest",
          "mapbox": {
           "style": "light"
          },
          "paper_bgcolor": "white",
          "plot_bgcolor": "#E5ECF6",
          "polar": {
           "angularaxis": {
            "gridcolor": "white",
            "linecolor": "white",
            "ticks": ""
           },
           "bgcolor": "#E5ECF6",
           "radialaxis": {
            "gridcolor": "white",
            "linecolor": "white",
            "ticks": ""
           }
          },
          "scene": {
           "xaxis": {
            "backgroundcolor": "#E5ECF6",
            "gridcolor": "white",
            "gridwidth": 2,
            "linecolor": "white",
            "showbackground": true,
            "ticks": "",
            "zerolinecolor": "white"
           },
           "yaxis": {
            "backgroundcolor": "#E5ECF6",
            "gridcolor": "white",
            "gridwidth": 2,
            "linecolor": "white",
            "showbackground": true,
            "ticks": "",
            "zerolinecolor": "white"
           },
           "zaxis": {
            "backgroundcolor": "#E5ECF6",
            "gridcolor": "white",
            "gridwidth": 2,
            "linecolor": "white",
            "showbackground": true,
            "ticks": "",
            "zerolinecolor": "white"
           }
          },
          "shapedefaults": {
           "line": {
            "color": "#2a3f5f"
           }
          },
          "ternary": {
           "aaxis": {
            "gridcolor": "white",
            "linecolor": "white",
            "ticks": ""
           },
           "baxis": {
            "gridcolor": "white",
            "linecolor": "white",
            "ticks": ""
           },
           "bgcolor": "#E5ECF6",
           "caxis": {
            "gridcolor": "white",
            "linecolor": "white",
            "ticks": ""
           }
          },
          "title": {
           "x": 0.05
          },
          "xaxis": {
           "automargin": true,
           "gridcolor": "white",
           "linecolor": "white",
           "ticks": "",
           "title": {
            "standoff": 15
           },
           "zerolinecolor": "white",
           "zerolinewidth": 2
          },
          "yaxis": {
           "automargin": true,
           "gridcolor": "white",
           "linecolor": "white",
           "ticks": "",
           "title": {
            "standoff": 15
           },
           "zerolinecolor": "white",
           "zerolinewidth": 2
          }
         }
        }
       }
      }
     },
     "metadata": {},
     "output_type": "display_data"
    },
    {
     "data": {
      "image/png": "[encoded data removed]",
      "text/plain": [
       "<Figure size 640x480 with 1 Axes>"
      ]
     },
     "metadata": {},
     "output_type": "display_data"
    },
    {
     "data": {
      "image/png": "[encoded data removed]",
      "text/plain": [
       "<Figure size 640x480 with 1 Axes>"
      ]
     },
     "metadata": {},
     "output_type": "display_data"
    },
    {
     "data": {
      "image/png": "[encoded data removed]",
      "text/plain": [
       "<Figure size 640x480 with 1 Axes>"
      ]
     },
     "metadata": {},
     "output_type": "display_data"
    },
    {
     "data": {
      "application/vnd.plotly.v1+json": {
       "config": {
        "plotlyServerURL": "https://plot.ly"
       },
       "data": [
        {
         "hovertemplate": "color=0<br>x=%{x}<br>y=%{y}<br>z=%{z}<extra></extra>",
         "legendgroup": "0",
         "marker": {
          "color": "#636efa",
          "size": 3,
          "symbol": "circle"
         },
         "mode": "markers",
         "name": "0",
         "scene": "scene",
         "showlegend": true,
         "type": "scatter3d",
         "x": {
          "bdata": "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",
          "dtype": "f8"
         },
         "y": {
          "bdata": "nZNUiYp447+mj2+V8aadP4DVOq6PIOK/0K7ao5ty2b++zgZm/9FhP7/8DQNel8G/2pBuouBA3b8ZpVAWWGvlv55bY4m4bNE/7WLjjftQwj8q++i+x2TaP29b3Zw45tW/2Rs2tQfk3r+OlsnaaMbdv978c6fO2cE/GSo5wtpd4D8l8dDsqo3Lv/YpmbD/crk/Zv+TDsBz17+ryRiF7crfv3WifCrqGeS/67I329Ya4D8x3Kpd32nBv3QdWVVxUMi/rOI+9qZI4L+cnJtV37DEP3fFJGkpZZK/aWYwZ64TwT+ziJACsIfbP8plKr4A+9q/LgNowNru4b9lQvGc3TnKv9H5EudeyMI/PRPEAD+z3j+LHXg1Y853P2lpTln7ENc//Or24j6t1z+LOdxwTTqBPwyNlmtaZLc/1K8qngGv2L9cnnm78vjCP2Ycb3NpOuO/6KErBcU03r/2YAn4k/bhPwjj6EDxpOC/aMHee7Yc379EFQ4vLNnVP9h57sv919k/4ZZDulzr5b9axeAXTOfYPyPtEBITq94/8m3Kul+To7/ZgjZcBMDjv6lbGBRVu+G/aWUTeSDz4b93mkjJHObjvyNJJcc/hrM/DiaRPMqmz79+qObEd7HGP7KmU2mBl9E/ZSUo2x4R4L+wzlgsfsKcP2rOVhAXwtS/ruZZyXSz4L8/3HG1d67Tv2o0BLMQ+cu/zxE5T+JY1L9rbJHQdMTfPxAFfdbkHJg/0vLnUp1jkT85h/oTUjTRPyR5df3JssY/rY6mgYe90r+WPGfE8gviP4U5NOlRNsU/MAdSTgoW3z9LuHEpITDZP35cwmu5kNy/pX2Ilbohx78v5OxqShnev4R7NqYHONG/gfCf2B9X0j/LnOxCcwTkvyeQWs0wDNc/wCTGdkyWoz/xpDfWxcfQP173vI2jNtS/o3WmvlIXuD8kVoVw7uHgP6Tj16Qpja2/pFTj/5K82D+A/HilFvrRv7BMWdi1paw/v8O7RAmz0j9u5rw2vEvZP6QZ5BudgNi/T9YYAy1itT/jH32bqHTNP8LVXxsFDtM/ayIkFBgkyb+sfODzJ/fTv3mMuTj8bN+/GG+mxgMd4D9yAeZFWxzIv/cBOUwOxeG/3kOKkcSS5r8tIU3xC7vAP2eBQJSwuuI/7oLdISQV0D9CjPVT0cHVv5STsf2ihbM/RiTzP8aG4D9r+wPNOybUP/dhxp+XhtK/3lfNCRX54j8IT8id6ILivyVz05NwlOO/U/Hr976V4L+nmk2bSAe3P4Tii2zO6c6/cJNoplaN0r/wTJkK2CTjv8Ifloydrsw/C6lo1eAx0j9EWX9LrGmjP3xSyJVkF6G/rcROrLoc2T+0uT51wxLcPyiJzTNOq9Y/sphEI/qx1792/YQ3WcjePwcybSuJ/dC/6wdIQFr7178wHMuA1pLYP/OTCbcGgNC/oIhLITsUlz/evYhwaYzFvwUQrBFSfng/0RF9H0DS3b/IjtjFSBC3PyAjM2LpuIe/le1e2U2mpL8fJYOAalTQv3etgUdTkNi/Ruq3zL4JnD/ZnLUrOf/YPzM62dKaB8c/h4I1TTHLwL+tGvHaKp7AP0cTU7D3EUO/+2n7YncN4r8JqDKeRvzYvwN8u2O/odE/j5zLMisQz78pNbEsgEjQP97t9kqzueG/5MHfgQty3z/OBvoAClLev89AcvAVNOW/dOUmizQi5b+9PvmJt2XDPyEa4zQKF86/5lgtwRbZ2D8ExTaIw1KiP+iflK0JPtG/vd7jkAWz2z9TNojWNUPhv87FmnY0cei/U3u7IREI3z/Q162z4NLEv8qikRyOj9o/2PXkEQjuub+iWjByShLdP0nNUIc5jtC/XNpNnTWv1T97wN4sm2mzP/RVrV6ImLE/eTEpExwZtb+0aktf+Wbfv7uybKXjmuW//d7dQJWb3L9P6tFXZZvNv4q4tVAgPr+/Ic6sw9FJ4T/AGTGr54Lhv3YLeTP5zsa/pvyCloZ31z893b4PO1W0P1nDqmgPet6/qIWJ43vB0z8iLKAc1FnVvwep3WTtcNs/thdbJVxq1z96SXi+lQnjv0xjiJrgQ5c/8GiIM21g2z+7zZ0dHuHUv7V9GLDdFNq/TgbDpB0s4z/C5kyX9fvlPw==",
          "dtype": "f8"
         },
         "z": {
          "bdata": "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",
          "dtype": "f8"
         }
        },
        {
         "hovertemplate": "color=1<br>x=%{x}<br>y=%{y}<br>z=%{z}<extra></extra>",
         "legendgroup": "1",
         "marker": {
          "color": "#EF553B",
          "size": 3,
          "symbol": "circle"
         },
         "mode": "markers",
         "name": "1",
         "scene": "scene",
         "showlegend": true,
         "type": "scatter3d",
         "x": {
          "bdata": "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",
          "dtype": "f8"
         },
         "y": {
          "bdata": "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",
          "dtype": "f8"
         },
         "z": {
          "bdata": "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",
          "dtype": "f8"
         }
        },
        {
         "hovertemplate": "color=-1<br>x=%{x}<br>y=%{y}<br>z=%{z}<extra></extra>",
         "legendgroup": "-1",
         "marker": {
          "color": "#00cc96",
          "size": 3,
          "symbol": "circle"
         },
         "mode": "markers",
         "name": "-1",
         "scene": "scene",
         "showlegend": true,
         "type": "scatter3d",
         "x": {
          "bdata": "vYzJPAgv9r8gSvlnf/wAQG3OBq0r49A/9J2Lhc722T/5Z1UP3/j7P6O4M4Z0keg/rZ97Ip74+T9zzhrGCHTtP7Nm4Nq91PA/idQjspwQ4D8DOQvvr/+qP2GUIVC2HMK/0Ss/USfC8r/IfpGiNovxP9G22jEaTALALm7xN1mlAkDk2C7k+/Hrv5BYssfSENA/bOZe0/L11T80EpclEl32P+OC3Gb5UvG/xUSD4z2F/z8GD+5DKTPhP4I8P38wrgBAijsEbx+e8z96+RNHAuXlvw==",
          "dtype": "f8"
         },
         "y": {
          "bdata": "f5bLmjCg/78hbMue/0vrPx8DC1DpSOo/KznDHSGP/z97yb83o5f3P1N+Lpb2AwPAPlz1iIip/D/fO63bOXDgv6pbVy9VB/8/ltGTBe2nA0DUcGrfcgAEwIO7f51J1gRApiKFeUciAsB5Vmc+f5LVv4nYbjHWzcw/Slk/pdjZ1b+glYlrxOwCwIeBGWuVFfQ/Jn7Tbqoa2z9GcDzA/HXTv3jhaXBdg/q/GTaKKWhBwr+iunJaBcDwv7gUc0dK9eo/TWZ6zfI1/z9TInMxq2v7Pw==",
          "dtype": "f8"
         },
         "z": {
          "bdata": "xxRDx74i4r8l08DPbQ7SvyhcYCNoWALAaF05XCTF97+3nUNcMbThP5/VOH2ujOs/z27sE5B1sz/FfJMu7d0BwMSI9GguveI/vwB2dnWE7D+VbVekr+nkv3pGT08XVdq/CTilYDkMzL/cJ5rpQWEAwCSgEL3HrOa/UYNykYBQx7/K3mac4UfmP+nNGZlVIADASPYEco/gAsA/31EEjJf+v1ZIPDuMqfU/jXUB+lPI8b8UhRFWazIBwEMHc9hRVN+/g/XeJ3F07D8MfVo54If3Pw==",
          "dtype": "f8"
         }
        }
       ],
       "layout": {
        "legend": {
         "title": {
          "text": "color"
         },
         "tracegroupgap": 0
        },
        "margin": {
         "t": 60
        },
        "scene": {
         "domain": {
          "x": [
           0,
           1
          ],
          "y": [
           0,
           1
          ]
         },
         "xaxis": {
          "title": {
           "text": "x"
          }
         },
         "yaxis": {
          "title": {
           "text": "y"
          }
         },
         "zaxis": {
          "title": {
           "text": "z"
          }
         }
        },
        "template": {
         "data": {
          "bar": [
           {
            "error_x": {
             "color": "#2a3f5f"
            },
            "error_y": {
             "color": "#2a3f5f"
            },
            "marker": {
             "line": {
              "color": "#E5ECF6",
              "width": 0.5
             },
             "pattern": {
              "fillmode": "overlay",
              "size": 10,
              "solidity": 0.2
             }
            },
            "type": "bar"
           }
          ],
          "barpolar": [
           {
            "marker": {
             "line": {
              "color": "#E5ECF6",
              "width": 0.5
             },
             "pattern": {
              "fillmode": "overlay",
              "size": 10,
              "solidity": 0.2
             }
            },
            "type": "barpolar"
           }
          ],
          "carpet": [
           {
            "aaxis": {
             "endlinecolor": "#2a3f5f",
             "gridcolor": "white",
             "linecolor": "white",
             "minorgridcolor": "white",
             "startlinecolor": "#2a3f5f"
            },
            "baxis": {
             "endlinecolor": "#2a3f5f",
             "gridcolor": "white",
             "linecolor": "white",
             "minorgridcolor": "white",
             "startlinecolor": "#2a3f5f"
            },
            "type": "carpet"
           }
          ],
          "choropleth": [
           {
            "colorbar": {
             "outlinewidth": 0,
             "ticks": ""
            },
            "type": "choropleth"
           }
          ],
          "contour": [
           {
            "colorbar": {
             "outlinewidth": 0,
             "ticks": ""
            },
            "colorscale": [
             [
              0,
              "#0d0887"
             ],
             [
              0.1111111111111111,
              "#46039f"
             ],
             [
              0.2222222222222222,
              "#7201a8"
             ],
             [
              0.3333333333333333,
              "#9c179e"
             ],
             [
              0.4444444444444444,
              "#bd3786"
             ],
             [
              0.5555555555555556,
              "#d8576b"
             ],
             [
              0.6666666666666666,
              "#ed7953"
             ],
             [
              0.7777777777777778,
              "#fb9f3a"
             ],
             [
              0.8888888888888888,
              "#fdca26"
             ],
             [
              1,
              "#f0f921"
             ]
            ],
            "type": "contour"
           }
          ],
          "contourcarpet": [
           {
            "colorbar": {
             "outlinewidth": 0,
             "ticks": ""
            },
            "type": "contourcarpet"
           }
          ],
          "heatmap": [
           {
            "colorbar": {
             "outlinewidth": 0,
             "ticks": ""
            },
            "colorscale": [
             [
              0,
              "#0d0887"
             ],
             [
              0.1111111111111111,
              "#46039f"
             ],
             [
              0.2222222222222222,
              "#7201a8"
             ],
             [
              0.3333333333333333,
              "#9c179e"
             ],
             [
              0.4444444444444444,
              "#bd3786"
             ],
             [
              0.5555555555555556,
              "#d8576b"
             ],
             [
              0.6666666666666666,
              "#ed7953"
             ],
             [
              0.7777777777777778,
              "#fb9f3a"
             ],
             [
              0.8888888888888888,
              "#fdca26"
             ],
             [
              1,
              "#f0f921"
             ]
            ],
            "type": "heatmap"
           }
          ],
          "histogram": [
           {
            "marker": {
             "pattern": {
              "fillmode": "overlay",
              "size": 10,
              "solidity": 0.2
             }
            },
            "type": "histogram"
           }
          ],
          "histogram2d": [
           {
            "colorbar": {
             "outlinewidth": 0,
             "ticks": ""
            },
            "colorscale": [
             [
              0,
              "#0d0887"
             ],
             [
              0.1111111111111111,
              "#46039f"
             ],
             [
              0.2222222222222222,
              "#7201a8"
             ],
             [
              0.3333333333333333,
              "#9c179e"
             ],
             [
              0.4444444444444444,
              "#bd3786"
             ],
             [
              0.5555555555555556,
              "#d8576b"
             ],
             [
              0.6666666666666666,
              "#ed7953"
             ],
             [
              0.7777777777777778,
              "#fb9f3a"
             ],
             [
              0.8888888888888888,
              "#fdca26"
             ],
             [
              1,
              "#f0f921"
             ]
            ],
            "type": "histogram2d"
           }
          ],
          "histogram2dcontour": [
           {
            "colorbar": {
             "outlinewidth": 0,
             "ticks": ""
            },
            "colorscale": [
             [
              0,
              "#0d0887"
             ],
             [
              0.1111111111111111,
              "#46039f"
             ],
             [
              0.2222222222222222,
              "#7201a8"
             ],
             [
              0.3333333333333333,
              "#9c179e"
             ],
             [
              0.4444444444444444,
              "#bd3786"
             ],
             [
              0.5555555555555556,
              "#d8576b"
             ],
             [
              0.6666666666666666,
              "#ed7953"
             ],
             [
              0.7777777777777778,
              "#fb9f3a"
             ],
             [
              0.8888888888888888,
              "#fdca26"
             ],
             [
              1,
              "#f0f921"
             ]
            ],
            "type": "histogram2dcontour"
           }
          ],
          "mesh3d": [
           {
            "colorbar": {
             "outlinewidth": 0,
             "ticks": ""
            },
            "type": "mesh3d"
           }
          ],
          "parcoords": [
           {
            "line": {
             "colorbar": {
              "outlinewidth": 0,
              "ticks": ""
             }
            },
            "type": "parcoords"
           }
          ],
          "pie": [
           {
            "automargin": true,
            "type": "pie"
           }
          ],
          "scatter": [
           {
            "fillpattern": {
             "fillmode": "overlay",
             "size": 10,
             "solidity": 0.2
            },
            "type": "scatter"
           }
          ],
          "scatter3d": [
           {
            "line": {
             "colorbar": {
              "outlinewidth": 0,
              "ticks": ""
             }
            },
            "marker": {
             "colorbar": {
              "outlinewidth": 0,
              "ticks": ""
             }
            },
            "type": "scatter3d"
           }
          ],
          "scattercarpet": [
           {
            "marker": {
             "colorbar": {
              "outlinewidth": 0,
              "ticks": ""
             }
            },
            "type": "scattercarpet"
           }
          ],
          "scattergeo": [
           {
            "marker": {
             "colorbar": {
              "outlinewidth": 0,
              "ticks": ""
             }
            },
            "type": "scattergeo"
           }
          ],
          "scattergl": [
           {
            "marker": {
             "colorbar": {
              "outlinewidth": 0,
              "ticks": ""
             }
            },
            "type": "scattergl"
           }
          ],
          "scattermap": [
           {
            "marker": {
             "colorbar": {
              "outlinewidth": 0,
              "ticks": ""
             }
            },
            "type": "scattermap"
           }
          ],
          "scattermapbox": [
           {
            "marker": {
             "colorbar": {
              "outlinewidth": 0,
              "ticks": ""
             }
            },
            "type": "scattermapbox"
           }
          ],
          "scatterpolar": [
           {
            "marker": {
             "colorbar": {
              "outlinewidth": 0,
              "ticks": ""
             }
            },
            "type": "scatterpolar"
           }
          ],
          "scatterpolargl": [
           {
            "marker": {
             "colorbar": {
              "outlinewidth": 0,
              "ticks": ""
             }
            },
            "type": "scatterpolargl"
           }
          ],
          "scatterternary": [
           {
            "marker": {
             "colorbar": {
              "outlinewidth": 0,
              "ticks": ""
             }
            },
            "type": "scatterternary"
           }
          ],
          "surface": [
           {
            "colorbar": {
             "outlinewidth": 0,
             "ticks": ""
            },
            "colorscale": [
             [
              0,
              "#0d0887"
             ],
             [
              0.1111111111111111,
              "#46039f"
             ],
             [
              0.2222222222222222,
              "#7201a8"
             ],
             [
              0.3333333333333333,
              "#9c179e"
             ],
             [
              0.4444444444444444,
              "#bd3786"
             ],
             [
              0.5555555555555556,
              "#d8576b"
             ],
             [
              0.6666666666666666,
              "#ed7953"
             ],
             [
              0.7777777777777778,
              "#fb9f3a"
             ],
             [
              0.8888888888888888,
              "#fdca26"
             ],
             [
              1,
              "#f0f921"
             ]
            ],
            "type": "surface"
           }
          ],
          "table": [
           {
            "cells": {
             "fill": {
              "color": "#EBF0F8"
             },
             "line": {
              "color": "white"
             }
            },
            "header": {
             "fill": {
              "color": "#C8D4E3"
             },
             "line": {
              "color": "white"
             }
            },
            "type": "table"
           }
          ]
         },
         "layout": {
          "annotationdefaults": {
           "arrowcolor": "#2a3f5f",
           "arrowhead": 0,
           "arrowwidth": 1
          },
          "autotypenumbers": "strict",
          "coloraxis": {
           "colorbar": {
            "outlinewidth": 0,
            "ticks": ""
           }
          },
          "colorscale": {
           "diverging": [
            [
             0,
             "#8e0152"
            ],
            [
             0.1,
             "#c51b7d"
            ],
            [
             0.2,
             "#de77ae"
            ],
            [
             0.3,
             "#f1b6da"
            ],
            [
             0.4,
             "#fde0ef"
            ],
            [
             0.5,
             "#f7f7f7"
            ],
            [
             0.6,
             "#e6f5d0"
            ],
            [
             0.7,
             "#b8e186"
            ],
            [
             0.8,
             "#7fbc41"
            ],
            [
             0.9,
             "#4d9221"
            ],
            [
             1,
             "#276419"
            ]
           ],
           "sequential": [
            [
             0,
             "#0d0887"
            ],
            [
             0.1111111111111111,
             "#46039f"
            ],
            [
             0.2222222222222222,
             "#7201a8"
            ],
            [
             0.3333333333333333,
             "#9c179e"
            ],
            [
             0.4444444444444444,
             "#bd3786"
            ],
            [
             0.5555555555555556,
             "#d8576b"
            ],
            [
             0.6666666666666666,
             "#ed7953"
            ],
            [
             0.7777777777777778,
             "#fb9f3a"
            ],
            [
             0.8888888888888888,
             "#fdca26"
            ],
            [
             1,
             "#f0f921"
            ]
           ],
           "sequentialminus": [
            [
             0,
             "#0d0887"
            ],
            [
             0.1111111111111111,
             "#46039f"
            ],
            [
             0.2222222222222222,
             "#7201a8"
            ],
            [
             0.3333333333333333,
             "#9c179e"
            ],
            [
             0.4444444444444444,
             "#bd3786"
            ],
            [
             0.5555555555555556,
             "#d8576b"
            ],
            [
             0.6666666666666666,
             "#ed7953"
            ],
            [
             0.7777777777777778,
             "#fb9f3a"
            ],
            [
             0.8888888888888888,
             "#fdca26"
            ],
            [
             1,
             "#f0f921"
            ]
           ]
          },
          "colorway": [
           "#636efa",
           "#EF553B",
           "#00cc96",
           "#ab63fa",
           "#FFA15A",
           "#19d3f3",
           "#FF6692",
           "#B6E880",
           "#FF97FF",
           "#FECB52"
          ],
          "font": {
           "color": "#2a3f5f"
          },
          "geo": {
           "bgcolor": "white",
           "lakecolor": "white",
           "landcolor": "#E5ECF6",
           "showlakes": true,
           "showland": true,
           "subunitcolor": "white"
          },
          "hoverlabel": {
           "align": "left"
          },
          "hovermode": "closest",
          "mapbox": {
           "style": "light"
          },
          "paper_bgcolor": "white",
          "plot_bgcolor": "#E5ECF6",
          "polar": {
           "angularaxis": {
            "gridcolor": "white",
            "linecolor": "white",
            "ticks": ""
           },
           "bgcolor": "#E5ECF6",
           "radialaxis": {
            "gridcolor": "white",
            "linecolor": "white",
            "ticks": ""
           }
          },
          "scene": {
           "xaxis": {
            "backgroundcolor": "#E5ECF6",
            "gridcolor": "white",
            "gridwidth": 2,
            "linecolor": "white",
            "showbackground": true,
            "ticks": "",
            "zerolinecolor": "white"
           },
           "yaxis": {
            "backgroundcolor": "#E5ECF6",
            "gridcolor": "white",
            "gridwidth": 2,
            "linecolor": "white",
            "showbackground": true,
            "ticks": "",
            "zerolinecolor": "white"
           },
           "zaxis": {
            "backgroundcolor": "#E5ECF6",
            "gridcolor": "white",
            "gridwidth": 2,
            "linecolor": "white",
            "showbackground": true,
            "ticks": "",
            "zerolinecolor": "white"
           }
          },
          "shapedefaults": {
           "line": {
            "color": "#2a3f5f"
           }
          },
          "ternary": {
           "aaxis": {
            "gridcolor": "white",
            "linecolor": "white",
            "ticks": ""
           },
           "baxis": {
            "gridcolor": "white",
            "linecolor": "white",
            "ticks": ""
           },
           "bgcolor": "#E5ECF6",
           "caxis": {
            "gridcolor": "white",
            "linecolor": "white",
            "ticks": ""
           }
          },
          "title": {
           "x": 0.05
          },
          "xaxis": {
           "automargin": true,
           "gridcolor": "white",
           "linecolor": "white",
           "ticks": "",
           "title": {
            "standoff": 15
           },
           "zerolinecolor": "white",
           "zerolinewidth": 2
          },
          "yaxis": {
           "automargin": true,
           "gridcolor": "white",
           "linecolor": "white",
           "ticks": "",
           "title": {
            "standoff": 15
           },
           "zerolinecolor": "white",
           "zerolinewidth": 2
          }
         }
        }
       }
      }
     },
     "metadata": {},
     "output_type": "display_data"
    },
    {
     "data": {
      "image/png": "[encoded data removed]",
      "text/plain": [
       "<Figure size 640x480 with 1 Axes>"
      ]
     },
     "metadata": {},
     "output_type": "display_data"
    },
    {
     "data": {
      "image/png": "[encoded data removed]",
      "text/plain": [
       "<Figure size 640x480 with 1 Axes>"
      ]
     },
     "metadata": {},
     "output_type": "display_data"
    },
    {
     "data": {
      "image/png": "[encoded data removed]",
      "text/plain": [
       "<Figure size 640x480 with 1 Axes>"
      ]
     },
     "metadata": {},
     "output_type": "display_data"
    },
    {
     "data": {
      "application/vnd.plotly.v1+json": {
       "config": {
        "plotlyServerURL": "https://plot.ly"
       },
       "data": [
        {
         "hovertemplate": "color=0<br>x=%{x}<br>y=%{y}<br>z=%{z}<extra></extra>",
         "legendgroup": "0",
         "marker": {
          "color": "#636efa",
          "size": 3,
          "symbol": "circle"
         },
         "mode": "markers",
         "name": "0",
         "scene": "scene",
         "showlegend": true,
         "type": "scatter3d",
         "x": {
          "bdata": "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",
          "dtype": "f8"
         },
         "y": {
          "bdata": "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",
          "dtype": "f8"
         },
         "z": {
          "bdata": "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",
          "dtype": "f8"
         }
        },
        {
         "hovertemplate": "color=-1<br>x=%{x}<br>y=%{y}<br>z=%{z}<extra></extra>",
         "legendgroup": "-1",
         "marker": {
          "color": "#EF553B",
          "size": 3,
          "symbol": "circle"
         },
         "mode": "markers",
         "name": "-1",
         "scene": "scene",
         "showlegend": true,
         "type": "scatter3d",
         "x": {
          "bdata": "y+JpnzPtpz+0+oDRgfLXvzAYgR3dqdS/E6XJTMiM2b8lBThidwvNP1WWITaa5cw/QIIV1VbY2j9Lc8IzRCH2P/jocbysftO/Ld6T5VBJ8r9ZYCD2blaGv3YbbKPGHbm/kuPzJ4FI7D975llX8lf0P41SRVzKy/C/24009DrD9T+k8wAp9x3cvz91rg7257W/OWbO/Sv+7T+1c+n3EUegP6O4M4Z0keg/TnPiRbpn/7+B30qqMnXav4nUI7KcEOA/YZQhULYcwr+2z7/C3OzcP6BispBuwf2/kKsfdfEK/79QQSciTjr6P1CQJYL8P+a/",
          "dtype": "f8"
         },
         "y": {
          "bdata": "nJybVd+wxD+/w7tECbPSP6eaTZtIB7c/cJNoplaN0r8DfLtjv6HRP87FmnY0cei/fAQe9Lks/L8BLaqf7VGJvxE+23K0cew/Rf1XKf9Y6z8Epj9uSF/2v2AEfAa2hPq//9AqZONszz9chtRgdfGLv7z9MBQdZOM/hBmIDEDLvz90vDDOREz7v5lgwcG3Ne6/t2UipOXh7z/sOv5pwxYDwFN+Lpb2AwPA4L85/ZXf7D/+3ubkngEEwJbRkwXtpwNAg7t/nUnWBECMLYTxkgYCwDyrnqVxJ/a/e8XtIiY4+78MU+XhGq/xv9KDU4W4swXA",
          "dtype": "f8"
         },
         "z": {
          "bdata": "u2jwieqs1T98wwja9eblv7WHD04PBMa/sp1WvTH95D9rE59tXBGhP31jwxGZj88/wmeuHcgN1D8xNq81JYzVvyfgeqlmavE/BDc7E0dhnT9uLW0wcVHzvwqBFZt4Q+m/krRZ1ZWf8b/VZwebfTjhvy3Ep2zpaeY/tsFTlpGe2T/Ra5gMVnrqv9RhhMRtX/m/uUrf2PnB1z9SQ92usf33v5/VOH2ujOs/zFPA9USN2T9nQNj5OT3pv78AdnZ1hOw/ekZPTxdV2r+LzlXQ2//0PyEL1VN0t/Q/vp/7wHe74r8vZgdZ5Mv7vwSBHTidkdi/",
          "dtype": "f8"
         }
        },
        {
         "hovertemplate": "color=1<br>x=%{x}<br>y=%{y}<br>z=%{z}<extra></extra>",
         "legendgroup": "1",
         "marker": {
          "color": "#00cc96",
          "size": 3,
          "symbol": "circle"
         },
         "mode": "markers",
         "name": "1",
         "scene": "scene",
         "showlegend": true,
         "type": "scatter3d",
         "x": {
          "bdata": "9cYGmguF07+7haEDLeXKv6cJJZGJbc6/ArJiW5Uezj/F8MRg2dP4PwsVb8IGZtC//8b69k3qv794pF/fcQabv2Ah/tYi+O2/fYduwKaA8T97HKeu5bzzPx1tuf026bc/c93lho2y+L9yKmzkPN/1P9OS14aloPi/VPKG/dlh8z8HnkhvrI/av9IUAFJKwPE/zgsKTUVl8L9x5AeB3IfbP2d0p807jPU/M4Sbl0dV5T9K7NpaGoP4P0dr/6D5wfC/HqjeTKIz9D83df/xrnXyP2o/xZM28OS/Mh6CQstAvr9Zw/B+4aDKP9Rx3Hc10vA/KwdWKNoWqb+JmundE8PYP6yON+/5/Pc/A3cFmWFIvT9Ul7DCLornv3pkZkqyeOI/zbfJC4yF9r9lCkngMrbfv6BYJrv6OOI/DW9E8rHF779c9tN0837uP6vIrHLi6eG/vpC7rlJepj9tJjfO2k7oP9vvNXv2cu6/SxHWAkzj6j8KudKVw6D0v/sb0w/dx86/oau+xJRz8D9UkA3vYa3fP147i4LmTvY/thc+/ZrT4b/WHf0aCLbKv1xdrDeuJNc/ngTk2+M98z9bJvMmbwLTv1f+QvsRP/K/DgdCGi0J6z+5s7T/Gr3dvy3cmfea/ds/LYgXmQXl3b+/gUbGuwL0v0RksbpTf+q/QJQt7pDg9D9wTqVQe/n2v6zebn0BYe4/3Ra/3DRw8L9MvueIGsL2P/Os53vjMdo/YPYnEWRI6D93BFnvK/X2v24Q43EqHOu/UKqXEbz367+TAtKgWaH4vw7fu/rQv+0/kfQv9/cz978iUdBpr5/Wv7u3Xfxj1d8/L5Pf3WRMuj8am+nNRd3cv0lypxfrJPM/sUPhNT8Q8L83v49MLuHwv2aXnUMzFue/bW2vH/K63r//GIK4axCvP637PGgVpeW/qwGVGrqf1T8yQj1CpBrxP88VWSKY7sK/gVS0pmZb9r+jyaZoenXWP1RQlglpDsY/AMCDuWvj9L9mT4rPzZn4v3z6nEi75vc/LzHGOrP73r8aQVGdfrHXP+RwZV1t3dI/cKnmAxPgsT9ClPRaphvPP077K1c78Oi//wwxhIIg6z/QzPAkCNPqv+Lp6OCL7/U/R2ZIUGI77L9PLtFISYvxv0F8hI+YF/c/GGJXtAMg9z+8Ijn5o/3sP17+drkik/U/yUT7AwJaZD+nbYMH79XuP3tdNsmTsvm/EsPenHVA+L8KGEdKkt/ivyTRX3lRxvc/GeqEzN+e8z/rFEqz22bxvwHmiKsUxfM/1EBscZCH3L82hIOzbnvGPy3SAYahl9W/I3KisWzX6b9qqg9GxT/pvxmYQYds4/Q/FBozH16b7D/y9lHfj1fpPwamaUTFMvo/364/7q8T+b8N59j7asb0v0vh6BnkVOe/ino+jPvC8L/kBVUidzHGPxJTDyR6dOo/ONnKQ/otwL/P4lLrj03kv2pVrepinKE/jggh+Usw87+tJL7XWSTVv7wvrqWkjro/XAJgtvLv5L8Jh3dwlST2P730M7SdPvc/QQukrO/t+r9etsV2apHZv8a2UOJqAew/Npy22IS+4z+qvGCyYaPhP6OP1Q7U0Pc/gdrxPLP6zj8xePw7K67xP2UAfw9pBfQ/ohwZFLqp7r8XtK+vY1+nP6scpihWWuC/9PpciChU7L8aqDvGYM7gP9LcY56p5Ok//HfoawZP8r/KrR2q5t/oP7PtMoi4eco/QRQ6RXTi5z+8z4L5H/KhvxjqngHmXvE/ZpjG6Qyj9r+8t+vRCJj0v0hmZWDfd/I/phKYiKOd4r89poyYJBXhP9Sm9jwQndS/w4HEeueJ2z+rv6UScdDwvy0sclTiStQ/aeqoh6hw4L/Uy+vQWaPwP9t5dIoZ6ug/cKc5rRTs7L8t5Gx9vb6nP2unxzMacLC/F7huhEbz5L+GA62FGK7oPwGYj/X2Ku2/Gr3OTuJp7T9KDD1Kh6TTv98/jJUk5uQ/KH0/jt8J9b8=",
          "dtype": "f8"
         },
         "y": {
          "bdata": "FZzAi0U6sD/UObidPry/v2nv8G0kvNi/7nU7fKACvL/HUQC9wTvMv7ckiElZme4/KG6DFzpx8b8DqYRtdB/zv3aPUVLAvvU/EO1iPkQn8j+UTS+zZ1HTP98aU2c8jem/co3ohyTtqT/HT5Qx25XIvzMcC5U0zNM/Gndv8Yjqzr/XAImF1zPKP//r8b/WU+U/xwK0LmuN3L8IVGIokxP4v6mNGcN7AOq/jt17N4w8+b+X6JiZHuHVP+eweeWXO/E/al04jTeJ2D+AzieNLpTvP/Rv+loVPPa/MCb8lqZ/3r/bII7aPMn7v709QDOf1fW/PWrBiiEZ27+NlB8LuWf2v+rMEY9N4t0/R2wGiRL+9z/8hD3lcUrpv4jv3OS8iOu/15yjPcKjyL/SITNnHVfxv8wn/pPvw7A/bCaJcgID5j+DD5Qsh77rv/+fs/ASBvK/WGh8ihJH7T9d6wC/89zyv5KV0BBGpvU/4UK5Qd6P9L967KND34btv5lphcxOmPY/5ea/aQmZ8L8Yh33kGtj0PyOYEfrdHes/PRGRKVNP6j/5a2l9qiLwvzL1D42umvK/XCuJrAHWsL83Qlui0FztPxroY7w+T+c/tC7NhxmM8D+P5ulNYenSvyr5TAivGrC/EJQr55i4+L+ri04Cforuv6YlhQrTaeQ/KV86PobL7L9fTBD/OYGav42RxYMkCvI/vwFpZsGY8j89Ltc67afkP+KBtPLSPfc/rlBxj+71oz+rCYHUBdLZPyHcgyrq1/C/Q30+b00f9T+azi+xPb/qP10DNyps0NS//GDHH1FQ3b8yXlwdX7L4P31M2nHV1N6/iaM9refL9j/Ql1OBJNHqP9jPCj6m3+y/911nZwYz0L/aDxll6YLov8vee7b1JvK/dkPfilyE9z/wK2j3Kr36PyJNGxWh/vU/H5usr67Q4D+vBrBZA+7zvz85PbG+AuI/KMyXoL7/5L8NA0edXvf4vxq8jXM4wPC/N5jSUzw24D8aDtMDqT7IP5/elr1dH7y/eJ1AfkJH8L8TFzdyWcfwvx+lieNgFtO/jOurLUgT37+99ak+58DjPwuI4pcy7Ni/12OPXQut5D+q9DgZA+r0v1/SHVBvTd+/4ixpHiKLwL8MuCaPdYTdP8bd/tKyrNM/A9std1C/3b+izIswi4XmP27JDlwpfNU/l22s7iYt8z+ouwpow0TaP8eegN+CBdw/kUiuPg/qy7+c/By8vIn2PzpY3HurCd8/2NLR281Y8T9F0KsifLHuP6c1iDX/Pt8/NIi7TxxP9r8dWHIAXWHnPxS05MnI1e0/Z1Cw151c4z9CfNBe7tnaPwfpGjEsp6S//b5lYC8u6T97yXBjLljxv/xkHGp2NaW/V3kjFdX+wb9aJD7DnAmiPxgE8Z9lLPQ/IjFxJ57i3D8Pvx76z5Pyv/dyYaZLrPe/vj5FsTOf+T9vARFX/4T0P7cxEeLGPvU/afnkX7n+uj8VT7mrNEnpvwdH5u4x1e4/9QWIaP+X8j9lbFSxeIHovzzEqh90ltw/2EqiNoM02T/NUOsqdwD7v63cF938ofQ/kSAq0r1u6D+bKoIo6tDZvzFbJ1EXWqQ/gX0dwq/k5D9owvoA//zHP/hLOu53e/E/2wGY3uT/77+SZIpOgLL2P90qNZIwEdO/cEPmpaSd5L/gacqAzyLsv6o5Hqia2fO/Mkp4Ua/I8r+wnbZLpMz1P1QoU2OIk/y/iF3mWKny8b83zZ/1OAbTPxsAPYreOee/zcOX44+h2D/AQZixDGfxv5secm7m1Ma/+40V4gju5D+uc9Rq4+z3v4pTg8A7e+Q/3FSC1baF+b+TwcYBea/rv4hWjVhOsvo/jHwu7yiv8T993Dy0fd/hP1+iiZcX87s/Tq/PeY/v9D9aZI/ESfezP63nV1EwLdS/e06fIWo/9z+pFAxJBIPov6wrQhpgL+a/lOmnb/3H8z/egI/WEqvrv7np00tlYvU/5JseCxR1vr8=",
          "dtype": "f8"
         },
         "z": {
          "bdata": "YFZgRBnh+j/14FZ85s/5v8KG9Q2c5Pe/ri2W/OgY+j/bMt/5adLQP2afBRrAZ/K/bcSqNkC99D+bujwxr1j0PwxFMybBkLk/E8da9AgD2T/km6i11MrmvxxO95mcTPi/cLrS/Hcx0j93QXUzR67lv4z0mAWZPOE/Km5zWzSa8j/fmJDIkt/7v4Esn5sgtOy/a5wrAzqe8z+p/Y40R4Drv9SAW3d8CNY/Fqm69avrwz8SftmVKwbYv//7YyQj5+E/gcIZdhgl5j8QE7ebANDIP5o8ElveSus/TGNC6i4F+T9dFCCPYZHSv7JGaavCEZ0/GTp6m+Zs+b+U8NlOSo3vP44vYYG21ac/+8mGmeZ1079RHn/ZBSn3v3PGsgVqlvM/gXKH8k564T9Ipi79Mcnxv7XveLrJ7vc/pMbgkib48L8wShl+E6jvv0sFzBXqEvM/t+YihlWr9T+jV8K2nVfvv0Gsv2FDPb+/CVzCaL2S6D/71eVMNkHav9Daj7YNuug/4o/cmc+Q5z+3dXa1Ao/uP3JNnuHTZMw/+wxJEkVI9b+ujO3261H0PzEftk8cTfM/JKEpWv7E7T8SqnMj4lH1v2wVrQF5mvC/MoylZYQq6D/03hpqOlr6v0CXjT/Ypfk/5RUmyA/j2b+EqhAvh3PnP62XEZEls/Q/NWQ36duP17/P8B7foOviv+HootKZfNQ/NloOVmFgzj+PqGOhKOzUv3VxfKA0/NI/4fViqSn/9j+GNzqH39i+v7cYA6kFFPC/ZR/Nh+U+27/v8D4vWkbavweaTjCuWfK/joCnNcrU4j8frV1XDdvhvwqEldp2qfc/xWPqqhkq7L93MCP1eDX1vzToTGTF2es/P6K/kuYw8z8/7OrS2unuvzjoY+Q3xPC/dSnJ1eQzqD/8rVt9BT7Av+H07PZTuuu/q9Nq0eMY+L8uv5iN7MG0vxwxCX4qafY/cHoX/JpI3j8gW3fwELOhv40+WDZK0vO/WzFTBQfv6r/+/u5bPp7nv/iWJqEDAe8/41OOkUDX8j8Zg/VpSz32P3kUxTX2Yvk/VoS+VSLF+D+wzqv+X+/3P8Rm2f+E3Pa/L02R2Ndv8790qUmFWsPkv9qJFKTg88E/kGLIRl3X87/5vuX3LmTyPzxmeYYqz9Y/OG/vsw8cvT8JSGtSduXxv3ZElJH+lOu/tcyGpcxP8r/mf8+T74PxP8eVVhdhaNE/nRkGrP/v6T/tIiU+cJjmvwyq0NQPq92/rl1vITKL1r+1MxMYNSTsPxxgen6Lxew/TGnCphws8L/8JYVU/Wv3P3R/k0aoI/O/a0k214gq9T9ctTV3Zt/zv9iuXtN0Y+i/vk5t2uME8z/6d9WW8Nnxvy/wQJEv09S/CCY8iN9wx79ytchMStrpvwVPtl5tHeU/9apZEPUu8j+YD1FAx2LzP/Nv4rQte+K/IiTYvDgKtD+UBDBXxYbrv2PArxUOHuq/EU6GpmyA8r9/U5preb72P1TFZQe3P/M/MjshBJcT7D/7opUEsJuiPx8nRCLlTqq/EPFs+orKtT+zkFxvfCe5P6U41jo8z82/9s6jyiUX87/SH8aQ5RH3P6TK1JLR8LO/oW++NPUS+T+yApidltXxv+sJBruonMU/GKqBJKVs77/Pi4pb5Jvqv5XFN5Z53/i/ZWN3+epS9L8DrLjGb2f3P92jx0l6EdM/ZT5I4j34wL9C2ZX4Rj7Wv7a4pfLBTLY/xOKcHHsg8b9/+dR30cv4P3zhP0s6NfE/XHZfLc356T93IwXr1tW/vySEnW3PavO/UwkUQrcG9j83m2QHmtfgvxRwBcgEwfi/oc8x2kZL4b/c61FTDjfuPz8YlZnqSto/ACzKyZHx6z9xISWylBftv/2zv6A8fPU/Kv0M8B9gzL+4KwJl3Cb5v7H0nk62bPg/4/EeTDnXw79UGpN0HXDzv5FQZ9yqhfG/PqsVp9is178PajeaE6/0P6XzoEx/j+O/7BUXZD8n5T8=",
          "dtype": "f8"
         }
        },
        {
         "hovertemplate": "color=2<br>x=%{x}<br>y=%{y}<br>z=%{z}<extra></extra>",
         "legendgroup": "2",
         "marker": {
          "color": "#ab63fa",
          "size": 3,
          "symbol": "circle"
         },
         "mode": "markers",
         "name": "2",
         "scene": "scene",
         "showlegend": true,
         "type": "scatter3d",
         "x": {
          "bdata": "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",
          "dtype": "f8"
         },
         "y": {
          "bdata": "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",
          "dtype": "f8"
         },
         "z": {
          "bdata": "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",
          "dtype": "f8"
         }
        }
       ],
       "layout": {
        "legend": {
         "title": {
          "text": "color"
         },
         "tracegroupgap": 0
        },
        "margin": {
         "t": 60
        },
        "scene": {
         "domain": {
          "x": [
           0,
           1
          ],
          "y": [
           0,
           1
          ]
         },
         "xaxis": {
          "title": {
           "text": "x"
          }
         },
         "yaxis": {
          "title": {
           "text": "y"
          }
         },
         "zaxis": {
          "title": {
           "text": "z"
          }
         }
        },
        "template": {
         "data": {
          "bar": [
           {
            "error_x": {
             "color": "#2a3f5f"
            },
            "error_y": {
             "color": "#2a3f5f"
            },
            "marker": {
             "line": {
              "color": "#E5ECF6",
              "width": 0.5
             },
             "pattern": {
              "fillmode": "overlay",
              "size": 10,
              "solidity": 0.2
             }
            },
            "type": "bar"
           }
          ],
          "barpolar": [
           {
            "marker": {
             "line": {
              "color": "#E5ECF6",
              "width": 0.5
             },
             "pattern": {
              "fillmode": "overlay",
              "size": 10,
              "solidity": 0.2
             }
            },
            "type": "barpolar"
           }
          ],
          "carpet": [
           {
            "aaxis": {
             "endlinecolor": "#2a3f5f",
             "gridcolor": "white",
             "linecolor": "white",
             "minorgridcolor": "white",
             "startlinecolor": "#2a3f5f"
            },
            "baxis": {
             "endlinecolor": "#2a3f5f",
             "gridcolor": "white",
             "linecolor": "white",
             "minorgridcolor": "white",
             "startlinecolor": "#2a3f5f"
            },
            "type": "carpet"
           }
          ],
          "choropleth": [
           {
            "colorbar": {
             "outlinewidth": 0,
             "ticks": ""
            },
            "type": "choropleth"
           }
          ],
          "contour": [
           {
            "colorbar": {
             "outlinewidth": 0,
             "ticks": ""
            },
            "colorscale": [
             [
              0,
              "#0d0887"
             ],
             [
              0.1111111111111111,
              "#46039f"
             ],
             [
              0.2222222222222222,
              "#7201a8"
             ],
             [
              0.3333333333333333,
              "#9c179e"
             ],
             [
              0.4444444444444444,
              "#bd3786"
             ],
             [
              0.5555555555555556,
              "#d8576b"
             ],
             [
              0.6666666666666666,
              "#ed7953"
             ],
             [
              0.7777777777777778,
              "#fb9f3a"
             ],
             [
              0.8888888888888888,
              "#fdca26"
             ],
             [
              1,
              "#f0f921"
             ]
            ],
            "type": "contour"
           }
          ],
          "contourcarpet": [
           {
            "colorbar": {
             "outlinewidth": 0,
             "ticks": ""
            },
            "type": "contourcarpet"
           }
          ],
          "heatmap": [
           {
            "colorbar": {
             "outlinewidth": 0,
             "ticks": ""
            },
            "colorscale": [
             [
              0,
              "#0d0887"
             ],
             [
              0.1111111111111111,
              "#46039f"
             ],
             [
              0.2222222222222222,
              "#7201a8"
             ],
             [
              0.3333333333333333,
              "#9c179e"
             ],
             [
              0.4444444444444444,
              "#bd3786"
             ],
             [
              0.5555555555555556,
              "#d8576b"
             ],
             [
              0.6666666666666666,
              "#ed7953"
             ],
             [
              0.7777777777777778,
              "#fb9f3a"
             ],
             [
              0.8888888888888888,
              "#fdca26"
             ],
             [
              1,
              "#f0f921"
             ]
            ],
            "type": "heatmap"
           }
          ],
          "histogram": [
           {
            "marker": {
             "pattern": {
              "fillmode": "overlay",
              "size": 10,
              "solidity": 0.2
             }
            },
            "type": "histogram"
           }
          ],
          "histogram2d": [
           {
            "colorbar": {
             "outlinewidth": 0,
             "ticks": ""
            },
            "colorscale": [
             [
              0,
              "#0d0887"
             ],
             [
              0.1111111111111111,
              "#46039f"
             ],
             [
              0.2222222222222222,
              "#7201a8"
             ],
             [
              0.3333333333333333,
              "#9c179e"
             ],
             [
              0.4444444444444444,
              "#bd3786"
             ],
             [
              0.5555555555555556,
              "#d8576b"
             ],
             [
              0.6666666666666666,
              "#ed7953"
             ],
             [
              0.7777777777777778,
              "#fb9f3a"
             ],
             [
              0.8888888888888888,
              "#fdca26"
             ],
             [
              1,
              "#f0f921"
             ]
            ],
            "type": "histogram2d"
           }
          ],
          "histogram2dcontour": [
           {
            "colorbar": {
             "outlinewidth": 0,
             "ticks": ""
            },
            "colorscale": [
             [
              0,
              "#0d0887"
             ],
             [
              0.1111111111111111,
              "#46039f"
             ],
             [
              0.2222222222222222,
              "#7201a8"
             ],
             [
              0.3333333333333333,
              "#9c179e"
             ],
             [
              0.4444444444444444,
              "#bd3786"
             ],
             [
              0.5555555555555556,
              "#d8576b"
             ],
             [
              0.6666666666666666,
              "#ed7953"
             ],
             [
              0.7777777777777778,
              "#fb9f3a"
             ],
             [
              0.8888888888888888,
              "#fdca26"
             ],
             [
              1,
              "#f0f921"
             ]
            ],
            "type": "histogram2dcontour"
           }
          ],
          "mesh3d": [
           {
            "colorbar": {
             "outlinewidth": 0,
             "ticks": ""
            },
            "type": "mesh3d"
           }
          ],
          "parcoords": [
           {
            "line": {
             "colorbar": {
              "outlinewidth": 0,
              "ticks": ""
             }
            },
            "type": "parcoords"
           }
          ],
          "pie": [
           {
            "automargin": true,
            "type": "pie"
           }
          ],
          "scatter": [
           {
            "fillpattern": {
             "fillmode": "overlay",
             "size": 10,
             "solidity": 0.2
            },
            "type": "scatter"
           }
          ],
          "scatter3d": [
           {
            "line": {
             "colorbar": {
              "outlinewidth": 0,
              "ticks": ""
             }
            },
            "marker": {
             "colorbar": {
              "outlinewidth": 0,
              "ticks": ""
             }
            },
            "type": "scatter3d"
           }
          ],
          "scattercarpet": [
           {
            "marker": {
             "colorbar": {
              "outlinewidth": 0,
              "ticks": ""
             }
            },
            "type": "scattercarpet"
           }
          ],
          "scattergeo": [
           {
            "marker": {
             "colorbar": {
              "outlinewidth": 0,
              "ticks": ""
             }
            },
            "type": "scattergeo"
           }
          ],
          "scattergl": [
           {
            "marker": {
             "colorbar": {
              "outlinewidth": 0,
              "ticks": ""
             }
            },
            "type": "scattergl"
           }
          ],
          "scattermap": [
           {
            "marker": {
             "colorbar": {
              "outlinewidth": 0,
              "ticks": ""
             }
            },
            "type": "scattermap"
           }
          ],
          "scattermapbox": [
           {
            "marker": {
             "colorbar": {
              "outlinewidth": 0,
              "ticks": ""
             }
            },
            "type": "scattermapbox"
           }
          ],
          "scatterpolar": [
           {
            "marker": {
             "colorbar": {
              "outlinewidth": 0,
              "ticks": ""
             }
            },
            "type": "scatterpolar"
           }
          ],
          "scatterpolargl": [
           {
            "marker": {
             "colorbar": {
              "outlinewidth": 0,
              "ticks": ""
             }
            },
            "type": "scatterpolargl"
           }
          ],
          "scatterternary": [
           {
            "marker": {
             "colorbar": {
              "outlinewidth": 0,
              "ticks": ""
             }
            },
            "type": "scatterternary"
           }
          ],
          "surface": [
           {
            "colorbar": {
             "outlinewidth": 0,
             "ticks": ""
            },
            "colorscale": [
             [
              0,
              "#0d0887"
             ],
             [
              0.1111111111111111,
              "#46039f"
             ],
             [
              0.2222222222222222,
              "#7201a8"
             ],
             [
              0.3333333333333333,
              "#9c179e"
             ],
             [
              0.4444444444444444,
              "#bd3786"
             ],
             [
              0.5555555555555556,
              "#d8576b"
             ],
             [
              0.6666666666666666,
              "#ed7953"
             ],
             [
              0.7777777777777778,
              "#fb9f3a"
             ],
             [
              0.8888888888888888,
              "#fdca26"
             ],
             [
              1,
              "#f0f921"
             ]
            ],
            "type": "surface"
           }
          ],
          "table": [
           {
            "cells": {
             "fill": {
              "color": "#EBF0F8"
             },
             "line": {
              "color": "white"
             }
            },
            "header": {
             "fill": {
              "color": "#C8D4E3"
             },
             "line": {
              "color": "white"
             }
            },
            "type": "table"
           }
          ]
         },
         "layout": {
          "annotationdefaults": {
           "arrowcolor": "#2a3f5f",
           "arrowhead": 0,
           "arrowwidth": 1
          },
          "autotypenumbers": "strict",
          "coloraxis": {
           "colorbar": {
            "outlinewidth": 0,
            "ticks": ""
           }
          },
          "colorscale": {
           "diverging": [
            [
             0,
             "#8e0152"
            ],
            [
             0.1,
             "#c51b7d"
            ],
            [
             0.2,
             "#de77ae"
            ],
            [
             0.3,
             "#f1b6da"
            ],
            [
             0.4,
             "#fde0ef"
            ],
            [
             0.5,
             "#f7f7f7"
            ],
            [
             0.6,
             "#e6f5d0"
            ],
            [
             0.7,
             "#b8e186"
            ],
            [
             0.8,
             "#7fbc41"
            ],
            [
             0.9,
             "#4d9221"
            ],
            [
             1,
             "#276419"
            ]
           ],
           "sequential": [
            [
             0,
             "#0d0887"
            ],
            [
             0.1111111111111111,
             "#46039f"
            ],
            [
             0.2222222222222222,
             "#7201a8"
            ],
            [
             0.3333333333333333,
             "#9c179e"
            ],
            [
             0.4444444444444444,
             "#bd3786"
            ],
            [
             0.5555555555555556,
             "#d8576b"
            ],
            [
             0.6666666666666666,
             "#ed7953"
            ],
            [
             0.7777777777777778,
             "#fb9f3a"
            ],
            [
             0.8888888888888888,
             "#fdca26"
            ],
            [
             1,
             "#f0f921"
            ]
           ],
           "sequentialminus": [
            [
             0,
             "#0d0887"
            ],
            [
             0.1111111111111111,
             "#46039f"
            ],
            [
             0.2222222222222222,
             "#7201a8"
            ],
            [
             0.3333333333333333,
             "#9c179e"
            ],
            [
             0.4444444444444444,
             "#bd3786"
            ],
            [
             0.5555555555555556,
             "#d8576b"
            ],
            [
             0.6666666666666666,
             "#ed7953"
            ],
            [
             0.7777777777777778,
             "#fb9f3a"
            ],
            [
             0.8888888888888888,
             "#fdca26"
            ],
            [
             1,
             "#f0f921"
            ]
           ]
          },
          "colorway": [
           "#636efa",
           "#EF553B",
           "#00cc96",
           "#ab63fa",
           "#FFA15A",
           "#19d3f3",
           "#FF6692",
           "#B6E880",
           "#FF97FF",
           "#FECB52"
          ],
          "font": {
           "color": "#2a3f5f"
          },
          "geo": {
           "bgcolor": "white",
           "lakecolor": "white",
           "landcolor": "#E5ECF6",
           "showlakes": true,
           "showland": true,
           "subunitcolor": "white"
          },
          "hoverlabel": {
           "align": "left"
          },
          "hovermode": "closest",
          "mapbox": {
           "style": "light"
          },
          "paper_bgcolor": "white",
          "plot_bgcolor": "#E5ECF6",
          "polar": {
           "angularaxis": {
            "gridcolor": "white",
            "linecolor": "white",
            "ticks": ""
           },
           "bgcolor": "#E5ECF6",
           "radialaxis": {
            "gridcolor": "white",
            "linecolor": "white",
            "ticks": ""
           }
          },
          "scene": {
           "xaxis": {
            "backgroundcolor": "#E5ECF6",
            "gridcolor": "white",
            "gridwidth": 2,
            "linecolor": "white",
            "showbackground": true,
            "ticks": "",
            "zerolinecolor": "white"
           },
           "yaxis": {
            "backgroundcolor": "#E5ECF6",
            "gridcolor": "white",
            "gridwidth": 2,
            "linecolor": "white",
            "showbackground": true,
            "ticks": "",
            "zerolinecolor": "white"
           },
           "zaxis": {
            "backgroundcolor": "#E5ECF6",
            "gridcolor": "white",
            "gridwidth": 2,
            "linecolor": "white",
            "showbackground": true,
            "ticks": "",
            "zerolinecolor": "white"
           }
          },
          "shapedefaults": {
           "line": {
            "color": "#2a3f5f"
           }
          },
          "ternary": {
           "aaxis": {
            "gridcolor": "white",
            "linecolor": "white",
            "ticks": ""
           },
           "baxis": {
            "gridcolor": "white",
            "linecolor": "white",
            "ticks": ""
           },
           "bgcolor": "#E5ECF6",
           "caxis": {
            "gridcolor": "white",
            "linecolor": "white",
            "ticks": ""
           }
          },
          "title": {
           "x": 0.05
          },
          "xaxis": {
           "automargin": true,
           "gridcolor": "white",
           "linecolor": "white",
           "ticks": "",
           "title": {
            "standoff": 15
           },
           "zerolinecolor": "white",
           "zerolinewidth": 2
          },
          "yaxis": {
           "automargin": true,
           "gridcolor": "white",
           "linecolor": "white",
           "ticks": "",
           "title": {
            "standoff": 15
           },
           "zerolinecolor": "white",
           "zerolinewidth": 2
          }
         }
        }
       }
      }
     },
     "metadata": {},
     "output_type": "display_data"
    },
    {
     "name": "stdout",
     "output_type": "stream",
     "text": [
      "Euclidiano: {'eps': np.float64(0.6913), 'min_pts': 5, 'clusters': 2, 'noise_frac': np.float64(0.043)}\n",
      "Radial: {'eps': np.float64(0.0345), 'min_pts': 15, 'clusters': 3, 'noise_frac': np.float64(0.05)}\n"
     ]
    },
    {
     "data": {
      "image/png": "[encoded data removed]",
      "text/plain": [
       "<Figure size 1000x400 with 1 Axes>"
      ]
     },
     "metadata": {},
     "output_type": "display_data"
    },
    {
     "data": {
      "image/png": "[encoded data removed]",
      "text/plain": [
       "<Figure size 640x480 with 1 Axes>"
      ]
     },
     "metadata": {},
     "output_type": "display_data"
    },
    {
     "data": {
      "image/png": "[encoded data removed]",
      "text/plain": [
       "<Figure size 640x480 with 1 Axes>"
      ]
     },
     "metadata": {},
     "output_type": "display_data"
    },
    {
     "data": {
      "image/png": "[encoded data removed]",
      "text/plain": [
       "<Figure size 640x480 with 1 Axes>"
      ]
     },
     "metadata": {},
     "output_type": "display_data"
    },
    {
     "name": "stdout",
     "output_type": "stream",
     "text": [
      "{'eps': np.float64(8.7744), 'min_pts': 3, 'precision': 1.0, 'recall': 1.0, 'f1': 1.0}\n"
     ]
    },
    {
     "data": {
      "image/png": "[encoded data removed]",
      "text/plain": [
       "<Figure size 1000x400 with 1 Axes>"
      ]
     },
     "metadata": {},
     "output_type": "display_data"
    }
   ],
   "source": [
    "import sys\n",
    "!{sys.executable} -m pip install numpy pandas matplotlib scipy scikit-learn plotly fastdtw --quiet\n",
    "\n",
    "import numpy as np\n",
    "import pandas as pd\n",
    "import matplotlib.pyplot as plt\n",
    "from sklearn.preprocessing import StandardScaler\n",
    "from sklearn.neighbors import NearestNeighbors\n",
    "from sklearn.metrics import precision_recall_fscore_support\n",
    "import plotly.express as px\n",
    "from fastdtw import fastdtw\n",
    "\n",
    "np.random.seed(1)\n",
    "\n",
    "class DBSCAN:\n",
    "    def __init__(self, eps=0.5, min_pts=5, metric='euclidean'):\n",
    "        self.eps = eps\n",
    "        self.min_pts = min_pts\n",
    "        self.metric = metric\n",
    "        self.labels_ = None\n",
    "        self.core_samples_ = None\n",
    "        self.n_clusters_ = 0\n",
    "        self._precomputed = None\n",
    "    def set_precomputed(self, D):\n",
    "        self._precomputed = D\n",
    "    def _calculate_distance_matrix(self, X):\n",
    "        if self.metric == 'euclidean':\n",
    "            return np.linalg.norm(X[:, np.newaxis] - X, axis=2)\n",
    "        elif self.metric == 'radial':\n",
    "            r = np.linalg.norm(X, axis=1)\n",
    "            return np.abs(r[:, None] - r[None, :])\n",
    "        elif self.metric == 'precomputed':\n",
    "            if self._precomputed is None:\n",
    "                raise ValueError(\"distância precomputada ausente\")\n",
    "            return self._precomputed\n",
    "        else:\n",
    "            raise ValueError(\"métrica inválida\")\n",
    "    def _get_neighbors(self, idx, D):\n",
    "        return np.where(D[idx] <= self.eps)[0]\n",
    "    def _expand_cluster(self, idx, neigh, cid, D, visited, labels):\n",
    "        labels[idx] = cid\n",
    "        q = neigh.tolist()\n",
    "        while q:\n",
    "            j = q.pop()\n",
    "            if not visited[j]:\n",
    "                visited[j] = True\n",
    "                neigh_j = self._get_neighbors(j, D)\n",
    "                if len(neigh_j) >= self.min_pts:\n",
    "                    q.extend(neigh_j)\n",
    "            if labels[j] == -1:\n",
    "                labels[j] = cid\n",
    "    def fit(self, X=None):\n",
    "        if self.metric == 'precomputed':\n",
    "            if self._precomputed is None:\n",
    "                raise ValueError(\"forneça matriz de distância\")\n",
    "            n = self._precomputed.shape[0]\n",
    "            D = self._precomputed\n",
    "        else:\n",
    "            if X is None:\n",
    "                raise ValueError(\"forneça X quando não for precomputed\")\n",
    "            n = len(X)\n",
    "            D = self._calculate_distance_matrix(X)\n",
    "        visited = np.zeros(n, dtype=bool)\n",
    "        labels = np.full(n, -1)\n",
    "        core_samples = []\n",
    "        cid = 0\n",
    "        for i in range(n):\n",
    "            if visited[i]:\n",
    "                continue\n",
    "            visited[i] = True\n",
    "            neigh = self._get_neighbors(i, D)\n",
    "            if len(neigh) >= self.min_pts:\n",
    "                core_samples.append(i)\n",
    "                self._expand_cluster(i, neigh, cid, D, visited, labels)\n",
    "                cid += 1\n",
    "        self.labels_ = labels\n",
    "        self.core_samples_ = np.array(core_samples)\n",
    "        self.n_clusters_ = len(np.unique(labels[labels != -1]))\n",
    "        return self\n",
    "    def fit_predict(self, X=None):\n",
    "        self.fit(X)\n",
    "        return self.labels_\n",
    "\n",
    "def k_distance(X, k, metric='euclidean', precomputed=None):\n",
    "    if metric == 'euclidean':\n",
    "        nn = NearestNeighbors(n_neighbors=k+1, metric='euclidean').fit(X)\n",
    "        d, _ = nn.kneighbors(X)\n",
    "        kth = d[:, k]\n",
    "    elif metric == 'radial':\n",
    "        r = np.linalg.norm(X, axis=1)[:, None]\n",
    "        nn = NearestNeighbors(n_neighbors=k+1, metric='euclidean').fit(r)\n",
    "        d, _ = nn.kneighbors(r)\n",
    "        kth = d[:, k]\n",
    "    elif metric == 'precomputed':\n",
    "        if precomputed is None:\n",
    "            raise ValueError(\"precomputed requerido\")\n",
    "        D = precomputed\n",
    "        sortd = np.sort(D, axis=1)\n",
    "        kth = sortd[:, k]\n",
    "    else:\n",
    "        raise ValueError(\"métrica inválida\")\n",
    "    return np.sort(kth)\n",
    "\n",
    "def generate_concentric_spheres(radii=[3, 8, 12], n_samples_per_sphere=200, noise=0.4, random_state=42):\n",
    "    rng = np.random.default_rng(random_state)\n",
    "    X, y = [], []\n",
    "    for i, r in enumerate(radii):\n",
    "        phi = rng.uniform(0, 2*np.pi, n_samples_per_sphere)\n",
    "        costheta = rng.uniform(-1, 1, n_samples_per_sphere)\n",
    "        theta = np.arccos(costheta)\n",
    "        rr = r + noise * rng.standard_normal(n_samples_per_sphere)\n",
    "        x = rr * np.sin(theta) * np.cos(phi)\n",
    "        y_ = rr * np.sin(theta) * np.sin(phi)\n",
    "        z = rr * np.cos(theta)\n",
    "        X.append(np.vstack((x, y_, z)).T)\n",
    "        y.append(np.full(n_samples_per_sphere, i))\n",
    "    X = np.vstack(X)\n",
    "    y = np.concatenate(y)\n",
    "    return X, y\n",
    "\n",
    "X_spheres, y_spheres = generate_concentric_spheres()\n",
    "scaler = StandardScaler()\n",
    "X_spheres = scaler.fit_transform(X_spheres)\n",
    "\n",
    "fig = px.scatter_3d(x=X_spheres[:,0], y=X_spheres[:,1], z=X_spheres[:,2])\n",
    "fig.update_traces(marker=dict(size=3))\n",
    "fig.show()\n",
    "\n",
    "minpts_list = [5, 10, 15]\n",
    "for mp in minpts_list:\n",
    "    kd = k_distance(X_spheres, k=mp-1, metric='euclidean')\n",
    "    plt.figure(); plt.plot(np.arange(len(kd)), kd); plt.title(f'K-Distance euclidiana (k={mp-1})'); plt.tight_layout(); plt.show()\n",
    "\n",
    "def select_params_dbscan_euclid(X, target_k=3, minpts_list=[5,10,15]):\n",
    "    best = None\n",
    "    for mp in minpts_list:\n",
    "        kd = k_distance(X, k=mp-1, metric='euclidean')\n",
    "        eps_candidates = np.linspace(np.percentile(kd, 60), np.percentile(kd, 90), 6)\n",
    "        for eps in eps_candidates:\n",
    "            model = DBSCAN(eps=eps, min_pts=mp, metric='euclidean').fit(X)\n",
    "            labels = model.labels_\n",
    "            ncl = len(np.unique(labels[labels!=-1]))\n",
    "            noise_frac = np.mean(labels==-1)\n",
    "            valid = ncl >= 1\n",
    "            score = -abs(ncl - target_k) - noise_frac\n",
    "            if valid and (best is None or score > best[0]):\n",
    "                best = (score, eps, mp, ncl, noise_frac, labels, model.core_samples_)\n",
    "    return best\n",
    "\n",
    "best_e = select_params_dbscan_euclid(X_spheres)\n",
    "best_score, best_eps, best_minpts, best_ncl, best_noise, labels_e, cores_e = best_e\n",
    "\n",
    "fig = px.scatter_3d(x=X_spheres[:,0], y=X_spheres[:,1], z=X_spheres[:,2], color=pd.Series(labels_e, dtype=str))\n",
    "fig.update_traces(marker=dict(size=3))\n",
    "fig.show()\n",
    "\n",
    "for mp in minpts_list:\n",
    "    kd_r = k_distance(X_spheres, k=mp-1, metric='radial')\n",
    "    plt.figure(); plt.plot(np.arange(len(kd_r)), kd_r); plt.title(f'K-Distance radial (k={mp-1})'); plt.tight_layout(); plt.show()\n",
    "\n",
    "def select_params_dbscan_radial(X, target_k=3, minpts_list=[5,10,15]):\n",
    "    best = None\n",
    "    for mp in minpts_list:\n",
    "        kd = k_distance(X, k=mp-1, metric='radial')\n",
    "        eps_candidates = np.linspace(np.percentile(kd, 60), np.percentile(kd, 90), 6)\n",
    "        for eps in eps_candidates:\n",
    "            model = DBSCAN(eps=eps, min_pts=mp, metric='radial').fit(X)\n",
    "            labels = model.labels_\n",
    "            ncl = len(np.unique(labels[labels!=-1]))\n",
    "            noise_frac = np.mean(labels==-1)\n",
    "            valid = ncl >= 1\n",
    "            score = -abs(ncl - target_k) - noise_frac\n",
    "            if valid and (best is None or score > best[0]):\n",
    "                best = (score, eps, mp, ncl, noise_frac, labels, model.core_samples_)\n",
    "    return best\n",
    "\n",
    "best_r = select_params_dbscan_radial(X_spheres)\n",
    "_, best_eps_r, best_minpts_r, best_ncl_r, best_noise_r, labels_r, cores_r = best_r\n",
    "\n",
    "fig = px.scatter_3d(x=X_spheres[:,0], y=X_spheres[:,1], z=X_spheres[:,2], color=pd.Series(labels_r, dtype=str))\n",
    "fig.update_traces(marker=dict(size=3))\n",
    "fig.show()\n",
    "\n",
    "print(\"Euclidiano:\", {\"eps\": round(best_eps,4), \"min_pts\": best_minpts, \"clusters\": best_ncl, \"noise_frac\": round(best_noise,3)})\n",
    "print(\"Radial:\", {\"eps\": round(best_eps_r,4), \"min_pts\": best_minpts_r, \"clusters\": best_ncl_r, \"noise_frac\": round(best_noise_r,3)})\n",
    "\n",
    "def generate_time_series_dataset(n_series=50, length=100, noise=0.1, n_outliers=2, random_state=42):\n",
    "    rng = np.random.default_rng(random_state)\n",
    "    X, y = [], []\n",
    "    t = np.linspace(0, 4*np.pi, length)\n",
    "    for _ in range(n_series):\n",
    "        amp = rng.uniform(0.8, 1.2)\n",
    "        freq = rng.uniform(0.9, 1.1)\n",
    "        phase = rng.uniform(0, 0.5*np.pi)\n",
    "        series = amp * np.sin(freq * t + phase) + noise * rng.normal(size=length)\n",
    "        X.append(series)\n",
    "        y.append(0)\n",
    "    for _ in range(n_outliers):\n",
    "        amp = rng.uniform(1.5, 2.0)\n",
    "        freq = rng.uniform(1.2, 1.5)\n",
    "        series = amp * np.sin(freq * t) + noise * rng.normal(size=length)\n",
    "        if rng.random() < 0.5:\n",
    "            series[length//2] += 3\n",
    "        else:\n",
    "            series += rng.normal(2.0, 0.5)\n",
    "        X.append(series)\n",
    "        y.append(-1)\n",
    "    return np.array(X), np.array(y)\n",
    "\n",
    "X_series, y_series = generate_time_series_dataset()\n",
    "\n",
    "plt.figure(figsize=(10,4))\n",
    "for i in range(5):\n",
    "    plt.plot(X_series[i], alpha=0.7)\n",
    "for i in range(-3,0):\n",
    "    plt.plot(X_series[i], alpha=0.7, color=\"red\")\n",
    "plt.title(\"Séries temporais (amostras)\"); plt.tight_layout(); plt.show()\n",
    "\n",
    "def dtw_distance_matrix_fastdtw(X, radius=5):\n",
    "    n = len(X)\n",
    "    D = np.zeros((n,n), dtype=float)\n",
    "    dist_fn = lambda a, b: abs(a - b)\n",
    "    for i in range(n):\n",
    "        for j in range(i+1, n):\n",
    "            d, _ = fastdtw(X[i], X[j], radius=radius, dist=dist_fn)\n",
    "            D[i,j] = D[j,i] = d\n",
    "    return D\n",
    "\n",
    "D_dtw = dtw_distance_matrix_fastdtw(X_series, radius=5)\n",
    "\n",
    "for mp in [3,5,8]:\n",
    "    kd_d = k_distance(None, k=mp-1, metric='precomputed', precomputed=D_dtw)\n",
    "    plt.figure(); plt.plot(np.arange(len(kd_d)), kd_d); plt.title(f'K-Distance DTW aprox (k={mp-1})'); plt.tight_layout(); plt.show()\n",
    "\n",
    "def grid_dbscan_dtw(D, y_true, minpts_list=[3,5,8]):\n",
    "    best = None\n",
    "    for mp in minpts_list:\n",
    "        kd = k_distance(None, k=mp-1, metric='precomputed', precomputed=D)\n",
    "        eps_list = np.linspace(np.percentile(kd, 60), np.percentile(kd, 90), 6)\n",
    "        for eps in eps_list:\n",
    "            model = DBSCAN(eps=eps, min_pts=mp, metric='precomputed')\n",
    "            model.set_precomputed(D)\n",
    "            model.fit()\n",
    "            labels = model.labels_\n",
    "            y_pred_anom = (labels == -1).astype(int)\n",
    "            y_true_anom = (y_true == -1).astype(int)\n",
    "            p, r, f1, _ = precision_recall_fscore_support(y_true_anom, y_pred_anom, average='binary', zero_division=0)\n",
    "            score = f1\n",
    "            if best is None or score > best[0]:\n",
    "                best = (score, eps, mp, p, r, f1, labels)\n",
    "    return best\n",
    "\n",
    "best_dtw = grid_dbscan_dtw(D_dtw, y_series)\n",
    "_, eps_dtw, mp_dtw, p_dtw, r_dtw, f1_dtw, labels_dtw = best_dtw\n",
    "print({\"eps\": round(eps_dtw,4), \"min_pts\": mp_dtw, \"precision\": round(p_dtw,3), \"recall\": round(r_dtw,3), \"f1\": round(f1_dtw,3)})\n",
    "\n",
    "plt.figure(figsize=(10,4))\n",
    "for i, s in enumerate(X_series):\n",
    "    c = \"red\" if labels_dtw[i] == -1 else \"C0\"\n",
    "    plt.plot(s, color=c, alpha=0.7)\n",
    "plt.title(\"Detecção de anomalias com DBSCAN+fastDTW\"); plt.tight_layout(); plt.show()\n"
   ]
  },
  {
   "cell_type": "code",
   "execution_count": null,
   "metadata": {},
   "outputs": [],
   "source": []
  }
 ],
 "metadata": {
  "kernelspec": {
   "display_name": "Python 3 (ipykernel)",
   "language": "python",
   "name": "python3"
  },
  "language_info": {
   "codemirror_mode": {
    "name": "ipython",
    "version": 3
   },
   "file_extension": ".py",
   "mimetype": "text/x-python",
   "name": "python",
   "nbconvert_exporter": "python",
   "pygments_lexer": "ipython3",
   "version": "3.13.7"
  }
 },
 "nbformat": 4,
 "nbformat_minor": 4
}
